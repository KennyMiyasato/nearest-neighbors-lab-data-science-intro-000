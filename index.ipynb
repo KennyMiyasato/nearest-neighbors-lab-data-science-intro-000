{
 "cells": [
  {
   "cell_type": "markdown",
   "metadata": {},
   "source": [
    "# Nearest Neighbors Lab"
   ]
  },
  {
   "cell_type": "markdown",
   "metadata": {},
   "source": [
    "### Introduction\n",
    "\n",
    "In this lab, you apply nearest neighbors technique to help a taxi company predict the length of their rides.  Imagine that we are hired to consult for LiftOff, a limo and taxi service that is just opening up in NYC.  Liftoff wants it's taxi drivers to target longer rides, as the longer the ride the more money it makes.  LiftOff has the following theory:\n",
    "\n",
    "* the pickup location of a taxi ride can help predict the length of the ride.  \n",
    "\n",
    "\n",
    "\n",
    "LiftOff asks us to do some analysis to write a function that will allow it to **predict the length of a taxi ride for any given location **.\n",
    "\n",
    "Our technique will be the following:\n",
    "  * **Collect** Obtain the data containing all of the taxi information, and only select the attributes of taxi trips that we need \n",
    "  * ** Explore ** Examine the attributes of our data, and plot some of our data on a map\n",
    "  * ** Train ** Write our nearest neighbors formula, and change the number of nearby trips to predict the length of a new trip\n",
    "  * ** Predict ** Use our function to predict trip lengths of new locations"
   ]
  },
  {
   "cell_type": "markdown",
   "metadata": {},
   "source": [
    "### Collect and Explore the data"
   ]
  },
  {
   "cell_type": "markdown",
   "metadata": {},
   "source": [
    "#### Collect the Data"
   ]
  },
  {
   "cell_type": "markdown",
   "metadata": {},
   "source": [
    "Luckily for us, [NYC Open Data](https://opendata.cityofnewyork.us/) collects information about NYC taxi trips and provides this data on [its website](https://data.cityofnewyork.us/Transportation/2014-Yellow-Taxi-Trip-Data/gn7m-em8n)."
   ]
  },
  {
   "cell_type": "markdown",
   "metadata": {},
   "source": [
    "![](./nyc-taxi.png)"
   ]
  },
  {
   "cell_type": "markdown",
   "metadata": {},
   "source": [
    "For your reading pleasure, the data has already been downloaded into the [trips.json](https://github.com/learn-co-curriculum/nearest-neighbors-lab/blob/master/trips.json) file in this lab which you can find here.  We'll use Python's `json` library to take the data from the `trips.json` file and store it as a variable in our notebook."
   ]
  },
  {
   "cell_type": "code",
   "execution_count": 1,
   "metadata": {},
   "outputs": [],
   "source": [
    "import json\n",
    "# First, read the file\n",
    "trips_file = open('trips.json')\n",
    "# Then, convert contents to list of dictionaries \n",
    "trips = json.load(trips_file)"
   ]
  },
  {
   "cell_type": "markdown",
   "metadata": {},
   "source": [
    "> Press shift + enter"
   ]
  },
  {
   "cell_type": "markdown",
   "metadata": {},
   "source": [
    "#### Explore the data"
   ]
  },
  {
   "cell_type": "markdown",
   "metadata": {},
   "source": [
    "The next step is to explore the data.  First, let's see how many trips we have."
   ]
  },
  {
   "cell_type": "code",
   "execution_count": 2,
   "metadata": {},
   "outputs": [
    {
     "data": {
      "text/plain": [
       "1000"
      ]
     },
     "execution_count": 2,
     "metadata": {},
     "output_type": "execute_result"
    }
   ],
   "source": [
    "len(trips)"
   ]
  },
  {
   "cell_type": "markdown",
   "metadata": {},
   "source": [
    "Not bad at all.  Now let's see what each individual trip looks like.  Each trip is a dictionary, so we can see the attributes of each trip with the `keys` function."
   ]
  },
  {
   "cell_type": "code",
   "execution_count": 3,
   "metadata": {
    "scrolled": true
   },
   "outputs": [
    {
     "data": {
      "text/plain": [
       "dict_keys(['dropoff_datetime', 'dropoff_latitude', 'dropoff_longitude', 'fare_amount', 'imp_surcharge', 'mta_tax', 'passenger_count', 'payment_type', 'pickup_datetime', 'pickup_latitude', 'pickup_longitude', 'rate_code', 'tip_amount', 'tolls_amount', 'total_amount', 'trip_distance', 'vendor_id'])"
      ]
     },
     "execution_count": 3,
     "metadata": {},
     "output_type": "execute_result"
    }
   ],
   "source": [
    "trips[0].keys()"
   ]
  },
  {
   "cell_type": "markdown",
   "metadata": {},
   "source": [
    "#### Limit our data"
   ]
  },
  {
   "cell_type": "markdown",
   "metadata": {},
   "source": [
    "Ok, now that we have explored some of our data, let's begin to think through what data is relevant for our task."
   ]
  },
  {
   "cell_type": "markdown",
   "metadata": {
    "collapsed": true
   },
   "source": [
    "Remember that our task is to **use the trip location to predict the length of a trip**.  So let's select the `pickup_latitude`, `pickup_longitude`, and `trip_distance` from each trip.  That will give us the trip location and related `trip_distance` for each trip.  Then based on these **actual** trip distances we can use nearest neighbors to predict an **expected** trip distance for a trip, provided an **actual** location."
   ]
  },
  {
   "cell_type": "markdown",
   "metadata": {},
   "source": [
    "** Add in about trip distance ** "
   ]
  },
  {
   "cell_type": "markdown",
   "metadata": {},
   "source": [
    "Write a function called `parse_trips(trips)` that returns a list of the trips with only the following attributes: \n",
    "* `trip_distance`\n",
    "* `pickup_latitude`\n",
    "* `pickup_longitude`"
   ]
  },
  {
   "cell_type": "code",
   "execution_count": 4,
   "metadata": {},
   "outputs": [],
   "source": [
    "def parse_trips(trips):\n",
    "    filteredTrips = list(map(lambda trip: dict(pickup_latitude=trip['pickup_latitude'],\n",
    "                                        pickup_longitude=trip['pickup_longitude'],\n",
    "                                        trip_distance=trip['trip_distance']\n",
    "                                        ), trips))\n",
    "    return filteredTrips"
   ]
  },
  {
   "cell_type": "code",
   "execution_count": 5,
   "metadata": {},
   "outputs": [
    {
     "data": {
      "text/plain": [
       "{'pickup_latitude': '40.64499',\n",
       " 'pickup_longitude': '-73.781149999999997',\n",
       " 'trip_distance': '18.379999999999999'}"
      ]
     },
     "execution_count": 5,
     "metadata": {},
     "output_type": "execute_result"
    }
   ],
   "source": [
    "parsed_trips = parse_trips(trips)\n",
    "parsed_trips and parsed_trips[0]\n",
    "\n",
    "# {'pickup_latitude': '40.64499',\n",
    "#  'pickup_longitude': '-73.78115',\n",
    "#  'trip_distance': '18.38'}"
   ]
  },
  {
   "cell_type": "markdown",
   "metadata": {},
   "source": [
    "Now, there's just one change to make.  If you look at one of the trips, all of the values are strings.  Let's change them to be floats."
   ]
  },
  {
   "cell_type": "code",
   "execution_count": 6,
   "metadata": {},
   "outputs": [],
   "source": [
    "def float_values(trips):\n",
    "    for trip in trips:\n",
    "        trip['pickup_latitude'] = float(trip['pickup_latitude'])\n",
    "        trip['pickup_longitude'] = float(trip['pickup_longitude'])\n",
    "        trip['trip_distance'] = float(trip['trip_distance'])\n",
    "    return trips"
   ]
  },
  {
   "cell_type": "code",
   "execution_count": 7,
   "metadata": {},
   "outputs": [],
   "source": [
    "cleaned_trips = float_values(parsed_trips)"
   ]
  },
  {
   "cell_type": "code",
   "execution_count": 8,
   "metadata": {},
   "outputs": [
    {
     "data": {
      "text/plain": [
       "{'pickup_latitude': 40.64499,\n",
       " 'pickup_longitude': -73.78115,\n",
       " 'trip_distance': 18.38}"
      ]
     },
     "execution_count": 8,
     "metadata": {},
     "output_type": "execute_result"
    }
   ],
   "source": [
    "cleaned_trips[0]\n",
    "\n",
    "# {'pickup_latitude': 40.64499,\n",
    "#  'pickup_longitude': -73.78115,\n",
    "#  'trip_distance': 18.38}"
   ]
  },
  {
   "cell_type": "markdown",
   "metadata": {},
   "source": [
    "### Exploring the Data"
   ]
  },
  {
   "cell_type": "markdown",
   "metadata": {},
   "source": [
    "Now that we have paired down our data, let's get a sense of our trip data.  We can use the `folium` Python library to plot a map of Manhattan, and our data.  First we must import `folium`, and then use the `Map` function to pass through a `location`, and `zoom_start`.  If a map isn't showing up below, copy and paste the command `pip install -r requirements.txt` into your terminal to install `folium` then try again."
   ]
  },
  {
   "cell_type": "code",
   "execution_count": 9,
   "metadata": {},
   "outputs": [],
   "source": [
    "import folium\n",
    "manhattan_map = folium.Map(location=[40.7589, -73.9851], zoom_start=11)"
   ]
  },
  {
   "cell_type": "code",
   "execution_count": 10,
   "metadata": {
    "scrolled": true
   },
   "outputs": [
    {
     "data": {
      "text/html": [
       "<div style=\"width:100%;\"><div style=\"position:relative;width:100%;height:0;padding-bottom:60%;\"><iframe src=\"data:text/html;charset=utf-8;base64,PCFET0NUWVBFIGh0bWw+CjxoZWFkPiAgICAKICAgIDxtZXRhIGh0dHAtZXF1aXY9ImNvbnRlbnQtdHlwZSIgY29udGVudD0idGV4dC9odG1sOyBjaGFyc2V0PVVURi04IiAvPgogICAgPHNjcmlwdD5MX1BSRUZFUl9DQU5WQVM9ZmFsc2U7IExfTk9fVE9VQ0g9ZmFsc2U7IExfRElTQUJMRV8zRD1mYWxzZTs8L3NjcmlwdD4KICAgIDxzY3JpcHQgc3JjPSJodHRwczovL2Nkbi5qc2RlbGl2ci5uZXQvbnBtL2xlYWZsZXRAMS40LjAvZGlzdC9sZWFmbGV0LmpzIj48L3NjcmlwdD4KICAgIDxzY3JpcHQgc3JjPSJodHRwczovL2NvZGUuanF1ZXJ5LmNvbS9qcXVlcnktMS4xMi40Lm1pbi5qcyI+PC9zY3JpcHQ+CiAgICA8c2NyaXB0IHNyYz0iaHR0cHM6Ly9tYXhjZG4uYm9vdHN0cmFwY2RuLmNvbS9ib290c3RyYXAvMy4yLjAvanMvYm9vdHN0cmFwLm1pbi5qcyI+PC9zY3JpcHQ+CiAgICA8c2NyaXB0IHNyYz0iaHR0cHM6Ly9jZG5qcy5jbG91ZGZsYXJlLmNvbS9hamF4L2xpYnMvTGVhZmxldC5hd2Vzb21lLW1hcmtlcnMvMi4wLjIvbGVhZmxldC5hd2Vzb21lLW1hcmtlcnMuanMiPjwvc2NyaXB0PgogICAgPGxpbmsgcmVsPSJzdHlsZXNoZWV0IiBocmVmPSJodHRwczovL2Nkbi5qc2RlbGl2ci5uZXQvbnBtL2xlYWZsZXRAMS40LjAvZGlzdC9sZWFmbGV0LmNzcyIvPgogICAgPGxpbmsgcmVsPSJzdHlsZXNoZWV0IiBocmVmPSJodHRwczovL21heGNkbi5ib290c3RyYXBjZG4uY29tL2Jvb3RzdHJhcC8zLjIuMC9jc3MvYm9vdHN0cmFwLm1pbi5jc3MiLz4KICAgIDxsaW5rIHJlbD0ic3R5bGVzaGVldCIgaHJlZj0iaHR0cHM6Ly9tYXhjZG4uYm9vdHN0cmFwY2RuLmNvbS9ib290c3RyYXAvMy4yLjAvY3NzL2Jvb3RzdHJhcC10aGVtZS5taW4uY3NzIi8+CiAgICA8bGluayByZWw9InN0eWxlc2hlZXQiIGhyZWY9Imh0dHBzOi8vbWF4Y2RuLmJvb3RzdHJhcGNkbi5jb20vZm9udC1hd2Vzb21lLzQuNi4zL2Nzcy9mb250LWF3ZXNvbWUubWluLmNzcyIvPgogICAgPGxpbmsgcmVsPSJzdHlsZXNoZWV0IiBocmVmPSJodHRwczovL2NkbmpzLmNsb3VkZmxhcmUuY29tL2FqYXgvbGlicy9MZWFmbGV0LmF3ZXNvbWUtbWFya2Vycy8yLjAuMi9sZWFmbGV0LmF3ZXNvbWUtbWFya2Vycy5jc3MiLz4KICAgIDxsaW5rIHJlbD0ic3R5bGVzaGVldCIgaHJlZj0iaHR0cHM6Ly9yYXdjZG4uZ2l0aGFjay5jb20vcHl0aG9uLXZpc3VhbGl6YXRpb24vZm9saXVtL21hc3Rlci9mb2xpdW0vdGVtcGxhdGVzL2xlYWZsZXQuYXdlc29tZS5yb3RhdGUuY3NzIi8+CiAgICA8c3R5bGU+aHRtbCwgYm9keSB7d2lkdGg6IDEwMCU7aGVpZ2h0OiAxMDAlO21hcmdpbjogMDtwYWRkaW5nOiAwO308L3N0eWxlPgogICAgPHN0eWxlPiNtYXAge3Bvc2l0aW9uOmFic29sdXRlO3RvcDowO2JvdHRvbTowO3JpZ2h0OjA7bGVmdDowO308L3N0eWxlPgogICAgCiAgICA8bWV0YSBuYW1lPSJ2aWV3cG9ydCIgY29udGVudD0id2lkdGg9ZGV2aWNlLXdpZHRoLAogICAgICAgIGluaXRpYWwtc2NhbGU9MS4wLCBtYXhpbXVtLXNjYWxlPTEuMCwgdXNlci1zY2FsYWJsZT1ubyIgLz4KICAgIDxzdHlsZT4jbWFwXzU4MTdjMzQ0YjQyODQ5YmFhYWM2MDFkMGY4MTVjMWQ3IHsKICAgICAgICBwb3NpdGlvbjogcmVsYXRpdmU7CiAgICAgICAgd2lkdGg6IDEwMC4wJTsKICAgICAgICBoZWlnaHQ6IDEwMC4wJTsKICAgICAgICBsZWZ0OiAwLjAlOwogICAgICAgIHRvcDogMC4wJTsKICAgICAgICB9CiAgICA8L3N0eWxlPgo8L2hlYWQ+Cjxib2R5PiAgICAKICAgIAogICAgPGRpdiBjbGFzcz0iZm9saXVtLW1hcCIgaWQ9Im1hcF81ODE3YzM0NGI0Mjg0OWJhYWFjNjAxZDBmODE1YzFkNyIgPjwvZGl2Pgo8L2JvZHk+CjxzY3JpcHQ+ICAgIAogICAgCiAgICAKICAgICAgICB2YXIgYm91bmRzID0gbnVsbDsKICAgIAoKICAgIHZhciBtYXBfNTgxN2MzNDRiNDI4NDliYWFhYzYwMWQwZjgxNWMxZDcgPSBMLm1hcCgKICAgICAgICAnbWFwXzU4MTdjMzQ0YjQyODQ5YmFhYWM2MDFkMGY4MTVjMWQ3JywgewogICAgICAgIGNlbnRlcjogWzQwLjc1ODksIC03My45ODUxXSwKICAgICAgICB6b29tOiAxMSwKICAgICAgICBtYXhCb3VuZHM6IGJvdW5kcywKICAgICAgICBsYXllcnM6IFtdLAogICAgICAgIHdvcmxkQ29weUp1bXA6IGZhbHNlLAogICAgICAgIGNyczogTC5DUlMuRVBTRzM4NTcsCiAgICAgICAgem9vbUNvbnRyb2w6IHRydWUsCiAgICAgICAgfSk7CgoKICAgIAogICAgdmFyIHRpbGVfbGF5ZXJfNjdmYTE4NjE1ZDU3NDgzOGI4MTliZjdjMzFjMGRlYWIgPSBMLnRpbGVMYXllcigKICAgICAgICAnaHR0cHM6Ly97c30udGlsZS5vcGVuc3RyZWV0bWFwLm9yZy97en0ve3h9L3t5fS5wbmcnLAogICAgICAgIHsKICAgICAgICAiYXR0cmlidXRpb24iOiBudWxsLAogICAgICAgICJkZXRlY3RSZXRpbmEiOiBmYWxzZSwKICAgICAgICAibWF4TmF0aXZlWm9vbSI6IDE4LAogICAgICAgICJtYXhab29tIjogMTgsCiAgICAgICAgIm1pblpvb20iOiAwLAogICAgICAgICJub1dyYXAiOiBmYWxzZSwKICAgICAgICAib3BhY2l0eSI6IDEsCiAgICAgICAgInN1YmRvbWFpbnMiOiAiYWJjIiwKICAgICAgICAidG1zIjogZmFsc2UKfSkuYWRkVG8obWFwXzU4MTdjMzQ0YjQyODQ5YmFhYWM2MDFkMGY4MTVjMWQ3KTsKPC9zY3JpcHQ+\" style=\"position:absolute;width:100%;height:100%;left:0;top:0;border:none !important;\" allowfullscreen webkitallowfullscreen mozallowfullscreen></iframe></div></div>"
      ],
      "text/plain": [
       "<folium.folium.Map at 0x7f9d2af34710>"
      ]
     },
     "execution_count": 10,
     "metadata": {},
     "output_type": "execute_result"
    }
   ],
   "source": [
    "manhattan_map"
   ]
  },
  {
   "cell_type": "markdown",
   "metadata": {},
   "source": [
    "Ok, now let's see how we could add a dot to mark a specific location.  We'll start with Times Square."
   ]
  },
  {
   "cell_type": "code",
   "execution_count": 11,
   "metadata": {},
   "outputs": [
    {
     "data": {
      "text/plain": [
       "<folium.vector_layers.CircleMarker at 0x7f9cf3644dd8>"
      ]
     },
     "execution_count": 11,
     "metadata": {},
     "output_type": "execute_result"
    }
   ],
   "source": [
    "marker = folium.CircleMarker(location = [40.7589, -73.9851], radius=10)\n",
    "marker.add_to(manhattan_map)"
   ]
  },
  {
   "cell_type": "markdown",
   "metadata": {},
   "source": [
    "Above, we first create a marker.  Then we add that circle marker to the `manhattan_map` we created earlier. "
   ]
  },
  {
   "cell_type": "code",
   "execution_count": 12,
   "metadata": {
    "scrolled": false
   },
   "outputs": [
    {
     "data": {
      "text/html": [
       "<div style=\"width:100%;\"><div style=\"position:relative;width:100%;height:0;padding-bottom:60%;\"><iframe src=\"data:text/html;charset=utf-8;base64,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\" style=\"position:absolute;width:100%;height:100%;left:0;top:0;border:none !important;\" allowfullscreen webkitallowfullscreen mozallowfullscreen></iframe></div></div>"
      ],
      "text/plain": [
       "<folium.folium.Map at 0x7f9d2af34710>"
      ]
     },
     "execution_count": 12,
     "metadata": {},
     "output_type": "execute_result"
    }
   ],
   "source": [
    "manhattan_map"
   ]
  },
  {
   "cell_type": "markdown",
   "metadata": {},
   "source": [
    "Do you see that blue dot near Time's Square?  That is our marker.  \n",
    "\n",
    "So now that we can plot one marker on a map, we should have a sense of how we can plot many markers on a map to display our taxi ride data.  We simply plot a map, and then we add a marker for each location of a taxi trip.\n",
    "\n",
    "Now let's write some functions to allow us to plot maps and add markers a little more easily.  "
   ]
  },
  {
   "cell_type": "markdown",
   "metadata": {},
   "source": [
    "#### Writing some map plotting functions"
   ]
  },
  {
   "cell_type": "markdown",
   "metadata": {},
   "source": [
    "As a first step towards this, note that the functions to create both a marker and map each take in a location as two element list, representing the latitude and longitude values.  Take another look:\n",
    "\n",
    "```python\n",
    "marker = folium.CircleMarker(location = [40.7589, -73.9851])\n",
    "manhattan_map = folium.Map(location=[40.7589, -73.9851])\n",
    "```\n",
    "\n",
    "So let's write a function called to create this two element list from a trip.  Write a function called `location` that  takes in a trip as an argument and returns a list where the first element is the latitude and the second is the longitude.  Remember that a location looks like the following:"
   ]
  },
  {
   "cell_type": "code",
   "execution_count": 14,
   "metadata": {},
   "outputs": [
    {
     "data": {
      "text/plain": [
       "{'pickup_latitude': 40.64499,\n",
       " 'pickup_longitude': -73.78115,\n",
       " 'trip_distance': 18.38}"
      ]
     },
     "execution_count": 14,
     "metadata": {},
     "output_type": "execute_result"
    }
   ],
   "source": [
    "first_trip = {'pickup_latitude': 40.64499, 'pickup_longitude': -73.78115,  'trip_distance': 18.38}\n",
    "first_trip"
   ]
  },
  {
   "cell_type": "code",
   "execution_count": 32,
   "metadata": {},
   "outputs": [],
   "source": [
    "def location(trip):\n",
    "    locationArray = []\n",
    "    locationArray.append(trip['pickup_latitude'])\n",
    "    locationArray.append(trip['pickup_longitude'])\n",
    "    return locationArray"
   ]
  },
  {
   "cell_type": "code",
   "execution_count": 33,
   "metadata": {},
   "outputs": [
    {
     "data": {
      "text/plain": [
       "[40.64499, -73.78115]"
      ]
     },
     "execution_count": 33,
     "metadata": {},
     "output_type": "execute_result"
    }
   ],
   "source": [
    "first_location = location(first_trip) # [40.64499, -73.78115]\n",
    "first_location # [40.64499, -73.78115]"
   ]
  },
  {
   "cell_type": "markdown",
   "metadata": {},
   "source": [
    "Ok, now that we can turn a trip into a location, let's turn a location into a marker.  Write a function called `to_marker` that takes in a location (in the form of a list) as an argument, and returns a folium `circleMarker` for that location.  The radius of the marker should always equal 6."
   ]
  },
  {
   "cell_type": "code",
   "execution_count": 34,
   "metadata": {},
   "outputs": [],
   "source": [
    "def to_marker(location):\n",
    "    return folium.CircleMarker(location,  radius=6)"
   ]
  },
  {
   "cell_type": "code",
   "execution_count": 35,
   "metadata": {},
   "outputs": [
    {
     "data": {
      "text/plain": [
       "6"
      ]
     },
     "execution_count": 35,
     "metadata": {},
     "output_type": "execute_result"
    }
   ],
   "source": [
    "import json\n",
    "times_square_marker = to_marker([40.7589, -73.9851])\n",
    "\n",
    "times_square_marker and times_square_marker.location # [40.7589, -73.9851]\n",
    "times_square_marker and json.loads(times_square_marker.options)['radius'] # 6"
   ]
  },
  {
   "cell_type": "markdown",
   "metadata": {},
   "source": [
    "Ok, now that we know how to produce a single marker, let's write a function to produce lots.  We can write a function called `markers_from_trips` that takes in a list of trips, and returns a marker object for each trip.  "
   ]
  },
  {
   "cell_type": "code",
   "execution_count": 44,
   "metadata": {},
   "outputs": [],
   "source": [
    "def markers_from_trips(trips):\n",
    "    markersFromTripsArray = []\n",
    "    for trip in trips:\n",
    "        markersFromTripsArray.append(trip['pickup_latitude'])\n",
    "        markersFromTripsArray.append(trip['pickup_longitude'])\n",
    "    return markersFromTripsArray"
   ]
  },
  {
   "cell_type": "code",
   "execution_count": 45,
   "metadata": {},
   "outputs": [
    {
     "data": {
      "text/plain": [
       "[40.64499,\n",
       " -73.78115,\n",
       " 40.766931,\n",
       " -73.982098,\n",
       " 40.77773,\n",
       " -73.951902,\n",
       " 40.795678,\n",
       " -73.971049,\n",
       " 40.762912,\n",
       " -73.967782,\n",
       " 40.731176,\n",
       " -73.991572,\n",
       " 40.800219,\n",
       " -73.968098,\n",
       " 40.648509,\n",
       " -73.783508,\n",
       " 40.721897,\n",
       " -73.983493,\n",
       " 40.791566,\n",
       " -73.972224,\n",
       " 40.744896,\n",
       " -73.978619,\n",
       " 40.721951,\n",
       " -73.844435,\n",
       " 40.732382,\n",
       " -74.001682,\n",
       " 40.768339,\n",
       " -73.961478,\n",
       " 40.775933,\n",
       " -73.962446,\n",
       " 40.794829,\n",
       " -73.971476,\n",
       " 40.758647,\n",
       " -73.964878,\n",
       " 40.713638,\n",
       " -74.011587,\n",
       " 40.77403,\n",
       " -73.874597,\n",
       " 40.728127,\n",
       " -73.99887,\n",
       " 40.759671,\n",
       " -73.976688,\n",
       " 40.772651,\n",
       " -73.967095,\n",
       " 40.770319,\n",
       " -73.960222,\n",
       " 40.720457,\n",
       " -73.988065,\n",
       " 40.754789,\n",
       " -73.973606,\n",
       " 40.755654,\n",
       " -73.985846,\n",
       " 40.741568,\n",
       " -73.978341,\n",
       " 40.736907,\n",
       " -73.98862,\n",
       " 40.76003,\n",
       " -73.964842,\n",
       " 40.721366,\n",
       " -74.008287,\n",
       " 40.760147,\n",
       " -73.97627,\n",
       " 40.745847,\n",
       " -74.001817,\n",
       " 40.753015,\n",
       " -73.985247,\n",
       " 40.644657,\n",
       " -73.782229,\n",
       " 40.738767,\n",
       " -74.0086,\n",
       " 40.773797,\n",
       " -73.871065,\n",
       " 40.743411,\n",
       " -73.97686,\n",
       " 40.758905,\n",
       " -73.967897,\n",
       " 40.733877,\n",
       " -73.989602,\n",
       " 40.726162,\n",
       " -73.983432,\n",
       " 40.775122,\n",
       " -73.947765,\n",
       " 40.75987,\n",
       " -73.978487,\n",
       " 40.707087,\n",
       " -73.94328,\n",
       " 40.741912,\n",
       " -74.003578,\n",
       " 40.769112,\n",
       " -73.862679,\n",
       " 40.785807,\n",
       " -73.976387,\n",
       " 40.7513,\n",
       " -73.986852,\n",
       " 40.733385,\n",
       " -73.987204,\n",
       " 40.760257,\n",
       " -73.976186,\n",
       " 40.741249,\n",
       " -74.005201,\n",
       " 40.759795,\n",
       " -73.985352,\n",
       " 40.756636,\n",
       " -73.9697,\n",
       " 40.73925,\n",
       " -74.000759,\n",
       " 40.751055,\n",
       " -73.97607,\n",
       " 40.723584,\n",
       " -73.995992,\n",
       " 40.757037,\n",
       " -73.929485,\n",
       " 40.743385,\n",
       " -73.981978,\n",
       " 40.737486,\n",
       " -73.978153,\n",
       " 40.77225,\n",
       " -73.95285,\n",
       " 40.732882,\n",
       " -73.981975,\n",
       " 40.774567,\n",
       " -73.988232,\n",
       " 40.757437,\n",
       " -73.964735,\n",
       " 40.789637,\n",
       " -73.975402,\n",
       " 40.754317,\n",
       " -73.992548,\n",
       " 40.745007,\n",
       " -73.998627,\n",
       " 40.734982,\n",
       " -73.990523,\n",
       " 0.0,\n",
       " 0.0,\n",
       " 40.738617,\n",
       " -73.989672,\n",
       " 40.790712,\n",
       " -73.972809,\n",
       " 40.750167,\n",
       " -73.987398,\n",
       " 40.732141,\n",
       " -73.98447,\n",
       " 40.765758,\n",
       " -73.994847,\n",
       " 40.792594,\n",
       " -73.964102,\n",
       " 40.762908,\n",
       " -73.969549,\n",
       " 40.750722,\n",
       " -73.968447,\n",
       " 40.769887,\n",
       " -73.86443,\n",
       " 40.77247,\n",
       " -73.982419,\n",
       " 40.764545,\n",
       " -73.982668,\n",
       " 40.641805,\n",
       " -73.78641,\n",
       " 40.75224,\n",
       " -73.97835,\n",
       " 40.758835,\n",
       " -73.988555,\n",
       " 40.722785,\n",
       " -73.988558,\n",
       " 40.720338,\n",
       " -73.993645,\n",
       " 40.72973,\n",
       " -73.991628,\n",
       " 40.760442,\n",
       " -73.958405,\n",
       " 40.756227,\n",
       " -73.98314,\n",
       " 40.751555,\n",
       " -73.992905,\n",
       " 40.71333,\n",
       " -74.004106,\n",
       " 40.764762,\n",
       " -73.991849,\n",
       " 40.763353,\n",
       " -73.985259,\n",
       " 40.775292,\n",
       " -73.982082,\n",
       " 40.779515,\n",
       " -73.984852,\n",
       " 40.768322,\n",
       " -73.982234,\n",
       " 40.766602,\n",
       " -73.95388,\n",
       " 40.763684,\n",
       " -73.981214,\n",
       " 40.793086,\n",
       " -73.952092,\n",
       " 40.773602,\n",
       " -73.871055,\n",
       " 40.771909,\n",
       " -73.959023,\n",
       " 40.774029,\n",
       " -73.961478,\n",
       " 40.74964,\n",
       " -73.972212,\n",
       " 40.771542,\n",
       " -73.959533,\n",
       " 40.694095,\n",
       " -73.9839,\n",
       " 40.756312,\n",
       " -73.994315,\n",
       " 40.730282,\n",
       " -74.006652,\n",
       " 40.777707,\n",
       " -73.955068,\n",
       " 40.726087,\n",
       " -73.994962,\n",
       " 40.738385,\n",
       " -73.999885,\n",
       " 40.7678,\n",
       " -73.961987,\n",
       " 40.742682,\n",
       " -73.972513,\n",
       " 40.770602,\n",
       " -73.982262,\n",
       " 40.747967,\n",
       " -73.976727,\n",
       " 40.742803,\n",
       " -74.004093,\n",
       " 40.755521,\n",
       " -73.97546,\n",
       " 40.760528,\n",
       " -74.002757,\n",
       " 40.740732,\n",
       " -74.005513,\n",
       " 40.735497,\n",
       " -74.00601,\n",
       " 40.715387,\n",
       " -74.013518,\n",
       " 40.721587,\n",
       " -73.995427,\n",
       " 40.760057,\n",
       " -73.983502,\n",
       " 40.740332,\n",
       " -73.986289,\n",
       " 40.7455,\n",
       " -73.977834,\n",
       " 40.733125,\n",
       " -73.987273,\n",
       " 40.752092,\n",
       " -73.989949,\n",
       " 40.72381,\n",
       " -73.992617,\n",
       " 40.767446,\n",
       " -73.984105,\n",
       " 40.800479,\n",
       " -73.968083,\n",
       " 40.717055,\n",
       " -73.991325,\n",
       " 40.748863,\n",
       " -73.992155,\n",
       " 40.80474,\n",
       " -73.9478,\n",
       " 40.762202,\n",
       " -73.969015,\n",
       " 0.0,\n",
       " 0.0,\n",
       " 40.740407,\n",
       " -73.987223,\n",
       " 40.722399,\n",
       " -73.997097,\n",
       " 40.747572,\n",
       " -73.974092,\n",
       " 40.794651,\n",
       " -73.972048,\n",
       " 40.751087,\n",
       " -73.9716,\n",
       " 40.719886,\n",
       " -74.009981,\n",
       " 40.760887,\n",
       " -73.98696,\n",
       " 40.727514,\n",
       " -74.0073,\n",
       " 40.774453,\n",
       " -73.872166,\n",
       " 40.741907,\n",
       " -74.003545,\n",
       " 40.735118,\n",
       " -73.97979,\n",
       " 40.773907,\n",
       " -73.871275,\n",
       " 40.758937,\n",
       " -73.994232,\n",
       " 40.752144,\n",
       " -73.977199,\n",
       " 40.745642,\n",
       " -73.990757,\n",
       " 40.71879,\n",
       " -73.98984,\n",
       " 40.739945,\n",
       " -74.006124,\n",
       " 40.777575,\n",
       " -73.986287,\n",
       " 40.753632,\n",
       " -73.988899,\n",
       " 40.74733,\n",
       " -73.97703,\n",
       " 40.769822,\n",
       " -73.960596,\n",
       " 40.724658,\n",
       " -73.997131,\n",
       " 40.758345,\n",
       " -73.989398,\n",
       " 40.764807,\n",
       " -73.97669,\n",
       " 40.772847,\n",
       " -73.962703,\n",
       " 40.793682,\n",
       " -73.966972,\n",
       " 40.760007,\n",
       " -73.97804,\n",
       " 40.747252,\n",
       " -73.888215,\n",
       " 40.756392,\n",
       " -73.967522,\n",
       " 40.763685,\n",
       " -73.977714,\n",
       " 40.767068,\n",
       " -73.982805,\n",
       " 40.77596,\n",
       " -73.98728,\n",
       " 40.739617,\n",
       " -73.984663,\n",
       " 40.751953,\n",
       " -73.976404,\n",
       " 40.718635,\n",
       " -74.000952,\n",
       " 40.7331,\n",
       " -73.981375,\n",
       " 40.77463,\n",
       " -73.96322,\n",
       " 40.753675,\n",
       " -73.984942,\n",
       " 40.763262,\n",
       " -73.95948,\n",
       " 40.768895,\n",
       " -73.958237,\n",
       " 40.641375,\n",
       " -73.788935,\n",
       " 40.745472,\n",
       " -73.98666,\n",
       " 40.707562,\n",
       " -74.004372,\n",
       " 40.75331,\n",
       " -73.968992,\n",
       " 40.769545,\n",
       " -73.960554,\n",
       " 40.77411,\n",
       " -73.874625,\n",
       " 40.720615,\n",
       " -74.009875,\n",
       " 40.76305,\n",
       " -73.969831,\n",
       " 40.648605,\n",
       " -73.78482,\n",
       " 40.730875,\n",
       " -74.001527,\n",
       " 40.763843,\n",
       " -73.928025,\n",
       " 40.759867,\n",
       " -73.97835,\n",
       " 40.77302,\n",
       " -73.982,\n",
       " 40.767437,\n",
       " -73.980957,\n",
       " 40.7951,\n",
       " -73.97166,\n",
       " 40.78045,\n",
       " -73.980198,\n",
       " 40.777608,\n",
       " -73.956815,\n",
       " 40.783897,\n",
       " -73.952306,\n",
       " 40.738437,\n",
       " -73.999686,\n",
       " 40.766227,\n",
       " -73.980152,\n",
       " 40.7472,\n",
       " -74.007947,\n",
       " 40.729602,\n",
       " -73.987032,\n",
       " 40.747295,\n",
       " -74.000877,\n",
       " 40.764276,\n",
       " -73.954283,\n",
       " 40.717463,\n",
       " -74.005494,\n",
       " 40.756667,\n",
       " -73.967298,\n",
       " 40.723036,\n",
       " -73.988783,\n",
       " 40.742832,\n",
       " -73.989064,\n",
       " 40.759825,\n",
       " -73.970231,\n",
       " 40.770567,\n",
       " -73.954641,\n",
       " 40.743565,\n",
       " -73.988827,\n",
       " 40.761372,\n",
       " -73.982602,\n",
       " 40.725012,\n",
       " -73.995492,\n",
       " 40.751251,\n",
       " -73.975745,\n",
       " 40.742522,\n",
       " -73.993292,\n",
       " 40.762107,\n",
       " -73.98479,\n",
       " 40.787171,\n",
       " -73.953967,\n",
       " 40.739887,\n",
       " -74.004942,\n",
       " 40.775297,\n",
       " -73.982005,\n",
       " 40.743232,\n",
       " -73.983751,\n",
       " 40.757386,\n",
       " -73.987253,\n",
       " 40.749027,\n",
       " -73.98395,\n",
       " 40.752385,\n",
       " -73.978314,\n",
       " 40.721988,\n",
       " -73.986383,\n",
       " 40.742422,\n",
       " -73.991082,\n",
       " 40.735396,\n",
       " -73.993911,\n",
       " 40.749873,\n",
       " -73.991593,\n",
       " 40.779447,\n",
       " -73.962047,\n",
       " 40.730843,\n",
       " -74.00677,\n",
       " 40.750116,\n",
       " -73.987503,\n",
       " 40.701734,\n",
       " -74.011263,\n",
       " 40.72635,\n",
       " -73.977049,\n",
       " 40.688702,\n",
       " -73.98921,\n",
       " 40.771385,\n",
       " -73.96467,\n",
       " 40.715884,\n",
       " -73.959979,\n",
       " 40.790046,\n",
       " -73.975066,\n",
       " 40.76418,\n",
       " -73.97822,\n",
       " 40.76041,\n",
       " -73.987652,\n",
       " 40.745647,\n",
       " -73.978275,\n",
       " 40.793261,\n",
       " -73.940565,\n",
       " 40.762111,\n",
       " -73.968438,\n",
       " 40.74733,\n",
       " -73.9969,\n",
       " 40.74886,\n",
       " -73.988666,\n",
       " 40.730145,\n",
       " -73.986395,\n",
       " 40.75318,\n",
       " -73.973152,\n",
       " 40.829557,\n",
       " -73.837699,\n",
       " 40.743102,\n",
       " -73.973988,\n",
       " 40.750445,\n",
       " -73.98674,\n",
       " 40.743475,\n",
       " -73.923155,\n",
       " 40.762752,\n",
       " -73.993035,\n",
       " 40.765577,\n",
       " -73.979713,\n",
       " 40.750027,\n",
       " -73.89876,\n",
       " 40.751947,\n",
       " -73.986142,\n",
       " 40.71972,\n",
       " -74.008841,\n",
       " 40.78079,\n",
       " -73.946522,\n",
       " 40.751607,\n",
       " -73.993449,\n",
       " 40.745595,\n",
       " -73.988398,\n",
       " 40.72245,\n",
       " -73.98729,\n",
       " 40.702557,\n",
       " -73.93467,\n",
       " 40.734659,\n",
       " -73.98004,\n",
       " 40.764774,\n",
       " -73.992049,\n",
       " 40.723516,\n",
       " -73.985065,\n",
       " 40.781072,\n",
       " -73.983538,\n",
       " 40.793005,\n",
       " -73.973026,\n",
       " 40.721025,\n",
       " -73.993857,\n",
       " 40.768497,\n",
       " -73.899785,\n",
       " 40.80726,\n",
       " -73.954179,\n",
       " 40.773715,\n",
       " -73.963908,\n",
       " 40.780082,\n",
       " -73.956843,\n",
       " 40.741824,\n",
       " -73.982933,\n",
       " 40.742112,\n",
       " -74.004672,\n",
       " 40.725925,\n",
       " -74.007585,\n",
       " 40.645718,\n",
       " -73.776765,\n",
       " 40.718398,\n",
       " -73.994967,\n",
       " 0.0,\n",
       " 0.0,\n",
       " 40.736343,\n",
       " -73.99289,\n",
       " 40.753827,\n",
       " -73.994472,\n",
       " 40.750693,\n",
       " -73.971834,\n",
       " 40.745964,\n",
       " -73.991152,\n",
       " 40.740482,\n",
       " -74.004042,\n",
       " 0.0,\n",
       " 0.0,\n",
       " 40.803842,\n",
       " -73.966812,\n",
       " 40.797632,\n",
       " -73.969822,\n",
       " 40.645322,\n",
       " -73.776652,\n",
       " 40.749207,\n",
       " -74.003233,\n",
       " 40.765548,\n",
       " -73.983683,\n",
       " 40.760289,\n",
       " -73.931531,\n",
       " 40.778967,\n",
       " -73.981767,\n",
       " 40.7582,\n",
       " -73.973285,\n",
       " 40.730709,\n",
       " -73.990504,\n",
       " 40.7456,\n",
       " -73.97814,\n",
       " 40.719471,\n",
       " -73.999779,\n",
       " 40.75619,\n",
       " -73.974282,\n",
       " 40.639542,\n",
       " -73.967915,\n",
       " 40.78366,\n",
       " -73.97427,\n",
       " 40.7464,\n",
       " -73.97771,\n",
       " 40.727475,\n",
       " -73.98533,\n",
       " 40.735015,\n",
       " -74.006024,\n",
       " 0.0,\n",
       " 0.0,\n",
       " 0.0,\n",
       " 0.0,\n",
       " 40.754176,\n",
       " -74.04442,\n",
       " 40.740112,\n",
       " -73.994987,\n",
       " 40.719972,\n",
       " -73.987553,\n",
       " 40.70517,\n",
       " -74.006987,\n",
       " 40.789142,\n",
       " -73.970472,\n",
       " 40.749115,\n",
       " -73.984182,\n",
       " 40.76443,\n",
       " -73.992037,\n",
       " 40.756477,\n",
       " -73.990472,\n",
       " 40.746142,\n",
       " -73.984852,\n",
       " 40.747856,\n",
       " -73.989088,\n",
       " 40.772615,\n",
       " -73.964789,\n",
       " 40.761912,\n",
       " -73.975275,\n",
       " 40.740991,\n",
       " -74.005581,\n",
       " 40.764115,\n",
       " -73.97707,\n",
       " 40.728808,\n",
       " -73.987538,\n",
       " 40.725511,\n",
       " -73.991953,\n",
       " 40.768967,\n",
       " -73.954822,\n",
       " 40.75652,\n",
       " -73.973926,\n",
       " 40.751217,\n",
       " -73.970895,\n",
       " 40.779557,\n",
       " -73.977187,\n",
       " 40.771472,\n",
       " -73.8755,\n",
       " 40.73832,\n",
       " -73.9918,\n",
       " 40.643172,\n",
       " -73.789035,\n",
       " 40.769387,\n",
       " -73.953623,\n",
       " 40.731752,\n",
       " -74.000932,\n",
       " 40.745874,\n",
       " -73.991095,\n",
       " 40.767867,\n",
       " -73.963893,\n",
       " 40.766245,\n",
       " -73.98354,\n",
       " 40.753485,\n",
       " -73.97311,\n",
       " 40.726597,\n",
       " -73.986165,\n",
       " 40.7446,\n",
       " -73.985232,\n",
       " 40.756806,\n",
       " -73.969385,\n",
       " 40.783447,\n",
       " -73.947283,\n",
       " 40.758985,\n",
       " -73.989435,\n",
       " 40.645316,\n",
       " -73.776808,\n",
       " 40.762868,\n",
       " -73.983233,\n",
       " 40.761322,\n",
       " -73.975755,\n",
       " 40.771097,\n",
       " -73.865913,\n",
       " 40.760195,\n",
       " -73.967307,\n",
       " 40.73286,\n",
       " -74.00007,\n",
       " 40.75952,\n",
       " -73.985488,\n",
       " 40.821517,\n",
       " -73.954177,\n",
       " 40.734922,\n",
       " -73.990548,\n",
       " 40.757594,\n",
       " -73.989531,\n",
       " 40.748042,\n",
       " -73.880385,\n",
       " 40.74957,\n",
       " -73.992772,\n",
       " 40.759663,\n",
       " -73.981141,\n",
       " 40.756397,\n",
       " -73.966882,\n",
       " 40.68078,\n",
       " -73.967735,\n",
       " 40.749994,\n",
       " -73.994031,\n",
       " 40.801351,\n",
       " -73.961519,\n",
       " 40.766223,\n",
       " -73.981952,\n",
       " 40.740045,\n",
       " -73.982178,\n",
       " 40.801657,\n",
       " -73.934415,\n",
       " 40.738722,\n",
       " -73.987027,\n",
       " 40.742172,\n",
       " -74.00809,\n",
       " 40.775633,\n",
       " -73.98233,\n",
       " 40.792377,\n",
       " -73.96788,\n",
       " 40.659956,\n",
       " -73.99842,\n",
       " 40.7655,\n",
       " -73.97585,\n",
       " 40.737997,\n",
       " -73.992069,\n",
       " 40.711467,\n",
       " -73.945825,\n",
       " 0.0,\n",
       " 0.0,\n",
       " 40.710822,\n",
       " -74.015592,\n",
       " 40.763597,\n",
       " -73.97968,\n",
       " 40.744277,\n",
       " -73.973007,\n",
       " 40.774152,\n",
       " -73.873092,\n",
       " 40.773736,\n",
       " -73.959905,\n",
       " 40.740018,\n",
       " -74.005399,\n",
       " 40.750094,\n",
       " -73.979116,\n",
       " 40.741317,\n",
       " -73.983402,\n",
       " 40.75885,\n",
       " -73.965817,\n",
       " 40.687077,\n",
       " -73.990203,\n",
       " 40.76705,\n",
       " -73.979222,\n",
       " 40.72257,\n",
       " -73.997073,\n",
       " 40.77958,\n",
       " -73.957862,\n",
       " 40.7385,\n",
       " -73.9853,\n",
       " 40.770377,\n",
       " -73.982127,\n",
       " 40.75906,\n",
       " -73.983681,\n",
       " 40.689827,\n",
       " -73.99235,\n",
       " 40.766367,\n",
       " -73.952442,\n",
       " 40.717302,\n",
       " -73.99898,\n",
       " 40.642817,\n",
       " -73.788912,\n",
       " 40.766804,\n",
       " -73.969071,\n",
       " 40.762317,\n",
       " -73.98593,\n",
       " 40.734099,\n",
       " -73.999288,\n",
       " 40.770737,\n",
       " -73.957142,\n",
       " 40.724919,\n",
       " -73.998967,\n",
       " 40.729687,\n",
       " -73.998358,\n",
       " 40.744083,\n",
       " -73.985687,\n",
       " 40.726413,\n",
       " -73.977196,\n",
       " 40.794009,\n",
       " -73.966721,\n",
       " 40.74589,\n",
       " -73.994388,\n",
       " 40.75284,\n",
       " -73.989232,\n",
       " 40.777652,\n",
       " -73.959298,\n",
       " 40.726935,\n",
       " -73.991668,\n",
       " 40.74969,\n",
       " -73.97751,\n",
       " 40.709355,\n",
       " -74.016717,\n",
       " 40.750099,\n",
       " -73.99125,\n",
       " 40.777513,\n",
       " -73.948801,\n",
       " 40.64534,\n",
       " -73.77668,\n",
       " 40.794572,\n",
       " -73.97205,\n",
       " 40.76084,\n",
       " -73.971439,\n",
       " 40.758902,\n",
       " -73.979668,\n",
       " 40.756082,\n",
       " -73.976395,\n",
       " 40.746631,\n",
       " -73.9819,\n",
       " 40.787612,\n",
       " -73.977033,\n",
       " 40.748875,\n",
       " -73.982345,\n",
       " 0.0,\n",
       " 0.0,\n",
       " 40.734924,\n",
       " -73.989973,\n",
       " 40.755682,\n",
       " -73.979288,\n",
       " 40.757465,\n",
       " -73.963752,\n",
       " 40.751163,\n",
       " -73.994115,\n",
       " 40.754707,\n",
       " -73.986173,\n",
       " 40.768512,\n",
       " -73.965495,\n",
       " 40.770792,\n",
       " -73.961915,\n",
       " 40.780672,\n",
       " -73.952653,\n",
       " 40.733568,\n",
       " -73.995547,\n",
       " 40.74998,\n",
       " -73.99179,\n",
       " 40.72235,\n",
       " -73.986202,\n",
       " 40.77081,\n",
       " -73.956903,\n",
       " 40.771152,\n",
       " -73.95672,\n",
       " 40.790777,\n",
       " -73.973482,\n",
       " 40.716232,\n",
       " -74.013591,\n",
       " 40.74277,\n",
       " -73.984523,\n",
       " 40.726791,\n",
       " -73.999842,\n",
       " 40.774935,\n",
       " -73.963839,\n",
       " 40.752832,\n",
       " -73.979423,\n",
       " 40.732783,\n",
       " -73.985831,\n",
       " 40.75176,\n",
       " -73.986138,\n",
       " 40.772827,\n",
       " -73.981567,\n",
       " 40.786305,\n",
       " -73.977741,\n",
       " 40.71986,\n",
       " -74.01021,\n",
       " 40.748193,\n",
       " -73.984715,\n",
       " 40.734642,\n",
       " -73.992515,\n",
       " 40.758495,\n",
       " -73.98159,\n",
       " 40.750711,\n",
       " -73.991913,\n",
       " 40.751085,\n",
       " -73.990382,\n",
       " 40.696647,\n",
       " -73.99152,\n",
       " 40.766092,\n",
       " -73.982632,\n",
       " 40.77293,\n",
       " -73.88525,\n",
       " 40.644032,\n",
       " -73.790294,\n",
       " 40.758261,\n",
       " -73.970859,\n",
       " 40.778392,\n",
       " -73.985658,\n",
       " 40.758372,\n",
       " -73.963047,\n",
       " 40.752788,\n",
       " -73.975128,\n",
       " 40.741972,\n",
       " -74.007642,\n",
       " 40.764972,\n",
       " -73.977855,\n",
       " 40.742227,\n",
       " -73.982747,\n",
       " 40.743594,\n",
       " -73.979374,\n",
       " 40.774852,\n",
       " -73.961215,\n",
       " 40.786657,\n",
       " -73.975743,\n",
       " 40.731236,\n",
       " -74.001455,\n",
       " 40.724197,\n",
       " -73.978797,\n",
       " 40.735687,\n",
       " -74.005065,\n",
       " 40.724007,\n",
       " -73.978812,\n",
       " 40.751962,\n",
       " -73.993918,\n",
       " 40.744422,\n",
       " -73.976127,\n",
       " 40.76944,\n",
       " -73.952025,\n",
       " 40.755972,\n",
       " -73.972347,\n",
       " 40.782482,\n",
       " -73.957812,\n",
       " 40.739142,\n",
       " -74.00807,\n",
       " 40.752412,\n",
       " -73.977267,\n",
       " 0.0,\n",
       " 0.0,\n",
       " 40.771168,\n",
       " -73.963929,\n",
       " 40.756005,\n",
       " -73.973294,\n",
       " 40.778415,\n",
       " -73.945392,\n",
       " 40.766653,\n",
       " -73.957138,\n",
       " 40.746032,\n",
       " -73.97976,\n",
       " 40.763352,\n",
       " -73.996385,\n",
       " 40.755782,\n",
       " -73.983322,\n",
       " 40.769837,\n",
       " -73.982025,\n",
       " 40.773009,\n",
       " -73.885269,\n",
       " 40.799458,\n",
       " -73.968139,\n",
       " 40.777555,\n",
       " -73.961237,\n",
       " 40.80409,\n",
       " -73.966942,\n",
       " 40.713948,\n",
       " -73.951672,\n",
       " 40.741453,\n",
       " -74.006441,\n",
       " 40.79858,\n",
       " -73.969018,\n",
       " 40.721519,\n",
       " -73.956165,\n",
       " 40.744341,\n",
       " -74.006568,\n",
       " 40.750106,\n",
       " -73.991395,\n",
       " 40.815817,\n",
       " -73.958397,\n",
       " 40.772255,\n",
       " -73.982507,\n",
       " 40.756412,\n",
       " -73.967363,\n",
       " 40.729556,\n",
       " -73.99331,\n",
       " 40.774627,\n",
       " -73.957909,\n",
       " 40.744418,\n",
       " -73.983521,\n",
       " 40.795953,\n",
       " -73.970739,\n",
       " 40.735785,\n",
       " -74.006038,\n",
       " 40.741275,\n",
       " -73.981362,\n",
       " 40.759037,\n",
       " -73.968693,\n",
       " 40.7642,\n",
       " -73.954807,\n",
       " 40.779383,\n",
       " -73.95955,\n",
       " 40.72638,\n",
       " -74.002,\n",
       " 40.716736,\n",
       " -73.997696,\n",
       " 40.751872,\n",
       " -73.987503,\n",
       " 40.774462,\n",
       " -73.988552,\n",
       " 40.748208,\n",
       " -74.005309,\n",
       " 40.756054,\n",
       " -74.005378,\n",
       " 40.759193,\n",
       " -73.97723,\n",
       " 40.7439,\n",
       " -73.999577,\n",
       " 40.712612,\n",
       " -73.95882,\n",
       " 40.751285,\n",
       " -73.9712,\n",
       " 40.75262,\n",
       " -73.98631,\n",
       " 40.728885,\n",
       " -74.000534,\n",
       " 40.753302,\n",
       " -73.979382,\n",
       " 40.759795,\n",
       " -73.968202,\n",
       " 40.727368,\n",
       " -74.0062,\n",
       " ...]"
      ]
     },
     "execution_count": 45,
     "metadata": {},
     "output_type": "execute_result"
    }
   ],
   "source": [
    "trip_markers = markers_from_trips(cleaned_trips)\n",
    "trip_markers"
   ]
  },
  {
   "cell_type": "code",
   "execution_count": 46,
   "metadata": {},
   "outputs": [
    {
     "data": {
      "text/plain": [
       "[{'pickup_latitude': 40.64499,\n",
       "  'pickup_longitude': -73.78115,\n",
       "  'trip_distance': 18.38},\n",
       " {'pickup_latitude': 40.766931,\n",
       "  'pickup_longitude': -73.982098,\n",
       "  'trip_distance': 1.3},\n",
       " {'pickup_latitude': 40.77773,\n",
       "  'pickup_longitude': -73.951902,\n",
       "  'trip_distance': 4.5},\n",
       " {'pickup_latitude': 40.795678,\n",
       "  'pickup_longitude': -73.971049,\n",
       "  'trip_distance': 2.4}]"
      ]
     },
     "execution_count": 46,
     "metadata": {},
     "output_type": "execute_result"
    }
   ],
   "source": [
    "cleaned_trips[0:4]"
   ]
  },
  {
   "cell_type": "code",
   "execution_count": 40,
   "metadata": {},
   "outputs": [
    {
     "ename": "AttributeError",
     "evalue": "'float' object has no attribute 'location'",
     "output_type": "error",
     "traceback": [
      "\u001b[0;31m\u001b[0m",
      "\u001b[0;31mAttributeError\u001b[0mTraceback (most recent call last)",
      "\u001b[0;32m<ipython-input-40-26f67db15327>\u001b[0m in \u001b[0;36m<module>\u001b[0;34m()\u001b[0m\n\u001b[1;32m      1\u001b[0m \u001b[0mtrip_markers\u001b[0m \u001b[0;32mand\u001b[0m \u001b[0mlen\u001b[0m\u001b[0;34m(\u001b[0m\u001b[0mtrip_markers\u001b[0m\u001b[0;34m)\u001b[0m \u001b[0;31m# 1000\u001b[0m\u001b[0;34m\u001b[0m\u001b[0m\n\u001b[1;32m      2\u001b[0m \u001b[0;34m\u001b[0m\u001b[0m\n\u001b[0;32m----> 3\u001b[0;31m \u001b[0mlist\u001b[0m\u001b[0;34m(\u001b[0m\u001b[0mmap\u001b[0m\u001b[0;34m(\u001b[0m\u001b[0;32mlambda\u001b[0m \u001b[0mmarker\u001b[0m\u001b[0;34m:\u001b[0m \u001b[0mmarker\u001b[0m\u001b[0;34m.\u001b[0m\u001b[0mlocation\u001b[0m\u001b[0;34m,\u001b[0m \u001b[0mtrip_markers\u001b[0m\u001b[0;34m[\u001b[0m\u001b[0;36m0\u001b[0m\u001b[0;34m:\u001b[0m\u001b[0;36m4\u001b[0m\u001b[0;34m]\u001b[0m\u001b[0;34m)\u001b[0m\u001b[0;34m)\u001b[0m\u001b[0;34m\u001b[0m\u001b[0m\n\u001b[0m\u001b[1;32m      4\u001b[0m \u001b[0;31m# [[40.64499, -73.78115],\u001b[0m\u001b[0;34m\u001b[0m\u001b[0;34m\u001b[0m\u001b[0m\n\u001b[1;32m      5\u001b[0m \u001b[0;31m#  [40.766931, -73.982098],\u001b[0m\u001b[0;34m\u001b[0m\u001b[0;34m\u001b[0m\u001b[0m\n",
      "\u001b[0;32m<ipython-input-40-26f67db15327>\u001b[0m in \u001b[0;36m<lambda>\u001b[0;34m(marker)\u001b[0m\n\u001b[1;32m      1\u001b[0m \u001b[0mtrip_markers\u001b[0m \u001b[0;32mand\u001b[0m \u001b[0mlen\u001b[0m\u001b[0;34m(\u001b[0m\u001b[0mtrip_markers\u001b[0m\u001b[0;34m)\u001b[0m \u001b[0;31m# 1000\u001b[0m\u001b[0;34m\u001b[0m\u001b[0m\n\u001b[1;32m      2\u001b[0m \u001b[0;34m\u001b[0m\u001b[0m\n\u001b[0;32m----> 3\u001b[0;31m \u001b[0mlist\u001b[0m\u001b[0;34m(\u001b[0m\u001b[0mmap\u001b[0m\u001b[0;34m(\u001b[0m\u001b[0;32mlambda\u001b[0m \u001b[0mmarker\u001b[0m\u001b[0;34m:\u001b[0m \u001b[0mmarker\u001b[0m\u001b[0;34m.\u001b[0m\u001b[0mlocation\u001b[0m\u001b[0;34m,\u001b[0m \u001b[0mtrip_markers\u001b[0m\u001b[0;34m[\u001b[0m\u001b[0;36m0\u001b[0m\u001b[0;34m:\u001b[0m\u001b[0;36m4\u001b[0m\u001b[0;34m]\u001b[0m\u001b[0;34m)\u001b[0m\u001b[0;34m)\u001b[0m\u001b[0;34m\u001b[0m\u001b[0m\n\u001b[0m\u001b[1;32m      4\u001b[0m \u001b[0;31m# [[40.64499, -73.78115],\u001b[0m\u001b[0;34m\u001b[0m\u001b[0;34m\u001b[0m\u001b[0m\n\u001b[1;32m      5\u001b[0m \u001b[0;31m#  [40.766931, -73.982098],\u001b[0m\u001b[0;34m\u001b[0m\u001b[0;34m\u001b[0m\u001b[0m\n",
      "\u001b[0;31mAttributeError\u001b[0m: 'float' object has no attribute 'location'"
     ]
    }
   ],
   "source": [
    "trip_markers and len(trip_markers) # 1000\n",
    "\n",
    "list(map(lambda marker: marker.location, trip_markers[0:4]))\n",
    "# [[40.64499, -73.78115],\n",
    "#  [40.766931, -73.982098],\n",
    "#  [40.77773, -73.951902],\n",
    "#  [40.795678, -73.971049]]"
   ]
  },
  {
   "cell_type": "markdown",
   "metadata": {},
   "source": [
    "Ok, now that we have a function that creates locations, and a function that creates markers, it is time to write a function to plot a map. \n",
    "\n",
    "Write a function called `map_from` that, provided the first argument of a list location and second argument an integer representing the `zoom_start`, returns a `folium` map the corresponding location and `zoom_start` attributes.\n",
    "\n",
    "> Hint: The following is how to write a map with folium:\n",
    "> ```python \n",
    "    folium.Map(location=location, zoom_start=zoom_amount)\n",
    "> ```"
   ]
  },
  {
   "cell_type": "code",
   "execution_count": null,
   "metadata": {},
   "outputs": [],
   "source": [
    "def map_from(location, zoom_amount):\n",
    "    pass"
   ]
  },
  {
   "cell_type": "code",
   "execution_count": null,
   "metadata": {},
   "outputs": [],
   "source": [
    "times_square_map = map_from([40.7589, -73.9851], 15)\n",
    "times_square_map and times_square_map.location # [40.7589, -73.9851]\n",
    "times_square_map and times_square_map.zoom_start # 15"
   ]
  },
  {
   "cell_type": "code",
   "execution_count": null,
   "metadata": {
    "scrolled": true
   },
   "outputs": [],
   "source": [
    "times_square_marker and times_square_marker.add_to(times_square_map)\n",
    "times_square_map"
   ]
  },
  {
   "cell_type": "markdown",
   "metadata": {},
   "source": [
    "Now that we have a marker and a map, now let's write a function that adds a lot of markers to a map.  This function should add each marker in the list to the map object then return the updated map object."
   ]
  },
  {
   "cell_type": "code",
   "execution_count": null,
   "metadata": {},
   "outputs": [],
   "source": [
    "manhattan_map = map_from([40.7589, -73.9851], 13)"
   ]
  },
  {
   "cell_type": "code",
   "execution_count": null,
   "metadata": {},
   "outputs": [],
   "source": [
    "def add_markers(markers, map_obj):\n",
    "    pass"
   ]
  },
  {
   "cell_type": "code",
   "execution_count": null,
   "metadata": {
    "scrolled": false
   },
   "outputs": [],
   "source": [
    "map_with_markers = add_markers(trip_markers, manhattan_map)"
   ]
  },
  {
   "cell_type": "code",
   "execution_count": null,
   "metadata": {},
   "outputs": [],
   "source": [
    "map_with_markers"
   ]
  },
  {
   "cell_type": "markdown",
   "metadata": {},
   "source": [
    "### Using Nearest Neighbors"
   ]
  },
  {
   "cell_type": "markdown",
   "metadata": {},
   "source": [
    "Ok, let's write a function that given a latitude and longitude will predict the distance for us.  We'll do this by first finding the nearest trips given a latitude and longitude. "
   ]
  },
  {
   "cell_type": "markdown",
   "metadata": {},
   "source": [
    "Here we once again apply the nearest neighbors formula. As a first step, write a function named `distance_location` that calculates the distance in pickup location between two trips."
   ]
  },
  {
   "cell_type": "code",
   "execution_count": null,
   "metadata": {},
   "outputs": [],
   "source": [
    "import math\n",
    "\n",
    "def distance_location(selected_trip, neighbor_trip):\n",
    "    pass"
   ]
  },
  {
   "cell_type": "code",
   "execution_count": null,
   "metadata": {},
   "outputs": [],
   "source": [
    "first_trip = {'pickup_latitude': 40.64499, 'pickup_longitude': -73.78115, 'trip_distance': 18.38}\n",
    "second_trip = {'pickup_latitude': 40.766931, 'pickup_longitude': -73.982098, 'trip_distance': 1.3}\n",
    "distance_first_and_second = distance_location(first_trip, second_trip)\n",
    "\n",
    "distance_first_and_second and round(distance_first_and_second, 3) # 0.235"
   ]
  },
  {
   "cell_type": "markdown",
   "metadata": {},
   "source": [
    "Ok, next write a function called `distance_between_neighbors` that adds a new key-value pair, called `distance_from_selected`, that calculates the distance of the `neighbor_trip` from the `selected_trip`."
   ]
  },
  {
   "cell_type": "code",
   "execution_count": null,
   "metadata": {},
   "outputs": [],
   "source": [
    "def distance_between_neighbors(selected_trip, neighbor_trip):\n",
    "    pass"
   ]
  },
  {
   "cell_type": "code",
   "execution_count": null,
   "metadata": {},
   "outputs": [],
   "source": [
    "distance_between_neighbors(first_trip, second_trip)\n",
    "\n",
    "# {'distance_from_selected': 0.23505256047318146,\n",
    "#  'pickup_latitude': 40.766931,\n",
    "#  'pickup_longitude': -73.982098,\n",
    "#  'trip_distance': 1.3}"
   ]
  },
  {
   "cell_type": "markdown",
   "metadata": {},
   "source": [
    "Ok, now our `neighbor_trip` has another attribute called `distance_from_selected`, that indicates the distance from the `neighbor_trip`'s pickup location from the `selected_trip`."
   ]
  },
  {
   "cell_type": "markdown",
   "metadata": {},
   "source": [
    "> ** Understand the data:** Our dictionary now has a few attributes, two of which say distance.  Let's make sure we understand the difference. \n",
    "> * **`distance_from_selected`:** This is our calculation of the distance of the neighbor's pickup location from the selected trip.\n",
    "> * **`trip_distance`:** This is the attribute we were provided initially.  It tells us the length of the neighbor's taxi trip from pickup to drop-off.  "
   ]
  },
  {
   "cell_type": "markdown",
   "metadata": {},
   "source": [
    "Next, write a function called `distance_all` that provided a list of neighbors, returns each of those neighbors with their respective `distance_from_selected` numbers."
   ]
  },
  {
   "cell_type": "code",
   "execution_count": null,
   "metadata": {},
   "outputs": [],
   "source": [
    "def distance_all(selected_individual, neighbors):\n",
    "    pass"
   ]
  },
  {
   "cell_type": "code",
   "execution_count": null,
   "metadata": {},
   "outputs": [],
   "source": [
    "cleaned_trips and distance_all(first_trip, cleaned_trips[0:4])"
   ]
  },
  {
   "cell_type": "markdown",
   "metadata": {},
   "source": [
    "Now write the nearest neighbors formula to calculate the distance of the `selected_trip` from all of the `cleaned_trips` in our dataset.  If no number is provided, it should return the top 3 neighbors."
   ]
  },
  {
   "cell_type": "code",
   "execution_count": null,
   "metadata": {},
   "outputs": [],
   "source": [
    "def nearest_neighbors(selected_trip, trips, number = 3):\n",
    "    pass"
   ]
  },
  {
   "cell_type": "code",
   "execution_count": null,
   "metadata": {},
   "outputs": [],
   "source": [
    "new_trip = {'pickup_latitude': 40.64499,\n",
    "'pickup_longitude': -73.78115,\n",
    "'trip_distance': 18.38}\n",
    "\n",
    "nearest_three_neighbors = nearest_neighbors(new_trip, cleaned_trips or [], number = 3)\n",
    "nearest_three_neighbors\n",
    "# [{'distance_from_selected': 0.0004569288784918792,\n",
    "#   'pickup_latitude': 40.64483,\n",
    "#   'pickup_longitude': -73.781578,\n",
    "#   'trip_distance': 7.78},\n",
    "#  {'distance_from_selected': 0.0011292165425673159,\n",
    "#   'pickup_latitude': 40.644657,\n",
    "#   'pickup_longitude': -73.782229,\n",
    "#   'trip_distance': 12.7},\n",
    "#  {'distance_from_selected': 0.0042359798158141185,\n",
    "#   'pickup_latitude': 40.648509,\n",
    "#   'pickup_longitude': -73.783508,\n",
    "#   'trip_distance': 17.3}]"
   ]
  },
  {
   "cell_type": "markdown",
   "metadata": {},
   "source": [
    "Ok great! Now that we can provide a new trip location, and find the distances of the three nearest trips, we can take  calculate an estimate of the trip distance for that new trip location.  \n",
    "\n",
    "We do so simply by calculating the average of it's nearest neighbors."
   ]
  },
  {
   "cell_type": "code",
   "execution_count": null,
   "metadata": {},
   "outputs": [],
   "source": [
    "import statistics\n",
    "def mean_distance(neighbors):\n",
    "    nearest_distances = list(map(lambda neighbor: neighbor['trip_distance'], neighbors))\n",
    "    return round(statistics.mean(nearest_distances), 3)\n",
    "\n",
    "nearest_three_neighbors = nearest_neighbors(new_trip, cleaned_trips or [], number = 3)\n",
    "distance_estimate_of_selected_trip = mean_distance(nearest_three_neighbors) # 12.593\n",
    "distance_estimate_of_selected_trip"
   ]
  },
  {
   "cell_type": "markdown",
   "metadata": {},
   "source": [
    "### Choosing the correct number of neighbors"
   ]
  },
  {
   "cell_type": "markdown",
   "metadata": {},
   "source": [
    "Now, as we know from the last lesson, one tricky element is to determine how many neighbors to choose, our $k$ value,  before calculating the average.  We want to choose our value of $k$ such that it properly matches actual data, and so that it applies to new data.  There are fancy formulas to ensure that we **train** our algorithm so that our formula is optimized for all data, but here let's see different $k$ values manually.  This is the gist of choosing our $k$ value:\n",
    "\n",
    "* If we choose a $k$ value too low, our formula will be too heavily influenced by a single neighbor, whereas if our $k$ value is too high, we will be choosing so many neighbors that our nearest neighbors formula will not be adjust enough according to locations.\n",
    "\n",
    "Ok, let's experiment with this."
   ]
  },
  {
   "cell_type": "markdown",
   "metadata": {},
   "source": [
    "First, let's choose a midtown location, to see what the trip distance would be.  A Google search reveals the coordinates of 51st and 7th avenue to be the following."
   ]
  },
  {
   "cell_type": "code",
   "execution_count": null,
   "metadata": {},
   "outputs": [],
   "source": [
    "midtown_trip = dict(pickup_latitude=40.761710, pickup_longitude=-73.982760)"
   ]
  },
  {
   "cell_type": "code",
   "execution_count": null,
   "metadata": {},
   "outputs": [],
   "source": [
    "seven_closest = nearest_neighbors(midtown_trip, cleaned_trips, number = 7)\n",
    "seven_closest\n",
    "# [{'trip_distance': 0.58,\n",
    "#   'pickup_latitude': 40.761372,\n",
    "#   'pickup_longitude': -73.982602,\n",
    "#   'distance_from_selected': 0.00037310588309379025},\n",
    "#  {'trip_distance': 0.8,\n",
    "#   'pickup_latitude': 40.762444,\n",
    "#   'pickup_longitude': -73.98244,\n",
    "#   'distance_from_selected': 0.00080072217404248},\n",
    "#  {'trip_distance': 1.4,\n",
    "#   'pickup_latitude': 40.762767,\n",
    "#   'pickup_longitude': -73.982293,\n",
    "#   'distance_from_selected': 0.0011555682584735844},\n",
    "#  {'trip_distance': 8.3,\n",
    "#   'pickup_latitude': 40.762868,\n",
    "#   'pickup_longitude': -73.983233,\n",
    "#   'distance_from_selected': 0.0012508768924205918},\n",
    "#  {'trip_distance': 1.26,\n",
    "#   'pickup_latitude': 40.760057,\n",
    "#   'pickup_longitude': -73.983502,\n",
    "#   'distance_from_selected': 0.0018118976240381972},\n",
    "#  {'trip_distance': 0.0,\n",
    "#   'pickup_latitude': 40.760644,\n",
    "#   'pickup_longitude': -73.984531,\n",
    "#   'distance_from_selected': 0.002067074502774709},\n",
    "#  {'trip_distance': 1.72,\n",
    "#   'pickup_latitude': 40.762107,\n",
    "#   'pickup_longitude': -73.98479,\n",
    "#   'distance_from_selected': 0.0020684557041472677}]"
   ]
  },
  {
   "cell_type": "markdown",
   "metadata": {},
   "source": [
    "Looking at the `distance_from_selected` it appears that our our trips are still fairly close to our selected trip.  Notice that most of the data is within a distance of .002 away, so going to the top 7 nearest neighbors didn't seem to give us neighbors too far from each other, which is a good sign.\n",
    "\n",
    "Still, it's hard to know what distance in latitude and longitude really look like, so let's map the data. "
   ]
  },
  {
   "cell_type": "code",
   "execution_count": null,
   "metadata": {},
   "outputs": [],
   "source": [
    "midtown_location = location(midtown_trip) # [40.76171, -73.98276]\n",
    "midtown_map = map_from(midtown_location, 16)\n",
    "closest_markers = markers_from_trips(seven_closest)\n",
    "\n",
    "add_markers(closest_markers, midtown_map)"
   ]
  },
  {
   "cell_type": "markdown",
   "metadata": {},
   "source": [
    "Ok.  These locations stay fairly close to our estimated location of 51st street and 7th Avenue.  So they could be a good estimate of a trip distance."
   ]
  },
  {
   "cell_type": "code",
   "execution_count": null,
   "metadata": {},
   "outputs": [],
   "source": [
    "mean_distance(seven_closest) # 2.009"
   ]
  },
  {
   "cell_type": "markdown",
   "metadata": {},
   "source": [
    "Ok, now let's try a different location"
   ]
  },
  {
   "cell_type": "code",
   "execution_count": null,
   "metadata": {},
   "outputs": [],
   "source": [
    "charging_bull_closest = nearest_neighbors({'pickup_latitude': 40.7049, 'pickup_longitude': -74.0137}, cleaned_trips, number = 12)"
   ]
  },
  {
   "cell_type": "code",
   "execution_count": null,
   "metadata": {
    "scrolled": true
   },
   "outputs": [],
   "source": [
    "mean_distance(charging_bull_closest) # 3.145"
   ]
  },
  {
   "cell_type": "markdown",
   "metadata": {},
   "source": [
    "Ok, so there appears to be a significant difference between choosing a location near Times Square versus choosing a location at Wall Street."
   ]
  },
  {
   "cell_type": "markdown",
   "metadata": {},
   "source": [
    "### Summary"
   ]
  },
  {
   "cell_type": "markdown",
   "metadata": {},
   "source": [
    "In this lab, we used the nearest neighbors function to predict the length of a taxi ride.  To do so, we selected a location, then found a number of taxi rides closest to that location, and finally took the average trip lengths of the nearest taxi rides to find an estimate of the new ride's trip length.  You can see that even with just a little bit of math and programming we can begin to make meaningful predictions with data."
   ]
  }
 ],
 "metadata": {
  "kernelspec": {
   "display_name": "Python 3",
   "language": "python",
   "name": "python3"
  },
  "language_info": {
   "codemirror_mode": {
    "name": "ipython",
    "version": 3
   },
   "file_extension": ".py",
   "mimetype": "text/x-python",
   "name": "python",
   "nbconvert_exporter": "python",
   "pygments_lexer": "ipython3",
   "version": "3.6.6"
  }
 },
 "nbformat": 4,
 "nbformat_minor": 2
}
