{
 "cells": [
  {
   "cell_type": "markdown",
   "metadata": {},
   "source": [
    "# Nearest Neighbors Lab"
   ]
  },
  {
   "cell_type": "markdown",
   "metadata": {},
   "source": [
    "### Introduction\n",
    "\n",
    "In this lab, you apply nearest neighbors technique to help a taxi company predict the length of their rides.  Imagine that we are hired to consult for LiftOff, a limo and taxi service that is just opening up in NYC.  Liftoff wants it's taxi drivers to target longer rides, as the longer the ride the more money it makes.  LiftOff has the following theory:\n",
    "\n",
    "* the pickup location of a taxi ride can help predict the length of the ride.  \n",
    "\n",
    "\n",
    "\n",
    "LiftOff asks us to do some analysis to write a function that will allow it to **predict the length of a taxi ride for any given location **.\n",
    "\n",
    "Our technique will be the following:\n",
    "  * **Collect** Obtain the data containing all of the taxi information, and only select the attributes of taxi trips that we need \n",
    "  * ** Explore ** Examine the attributes of our data, and plot some of our data on a map\n",
    "  * ** Train ** Write our nearest neighbors formula, and change the number of nearby trips to predict the length of a new trip\n",
    "  * ** Predict ** Use our function to predict trip lengths of new locations"
   ]
  },
  {
   "cell_type": "markdown",
   "metadata": {},
   "source": [
    "### Collect and Explore the data"
   ]
  },
  {
   "cell_type": "markdown",
   "metadata": {},
   "source": [
    "#### Collect the Data"
   ]
  },
  {
   "cell_type": "markdown",
   "metadata": {},
   "source": [
    "Luckily for us, [NYC Open Data](https://opendata.cityofnewyork.us/) collects information about NYC taxi trips and provides this data on [its website](https://data.cityofnewyork.us/Transportation/2014-Yellow-Taxi-Trip-Data/gn7m-em8n)."
   ]
  },
  {
   "cell_type": "markdown",
   "metadata": {},
   "source": [
    "![](./nyc-taxi.png)"
   ]
  },
  {
   "cell_type": "markdown",
   "metadata": {},
   "source": [
    "For your reading pleasure, the data has already been downloaded into the [trips.json](https://github.com/learn-co-curriculum/nearest-neighbors-lab/blob/master/trips.json) file in this lab which you can find here.  We'll use Python's `json` library to take the data from the `trips.json` file and store it as a variable in our notebook."
   ]
  },
  {
   "cell_type": "code",
   "execution_count": 1,
   "metadata": {},
   "outputs": [],
   "source": [
    "import json\n",
    "# First, read the file\n",
    "trips_file = open('trips.json')\n",
    "# Then, convert contents to list of dictionaries \n",
    "trips = json.load(trips_file)"
   ]
  },
  {
   "cell_type": "markdown",
   "metadata": {},
   "source": [
    "> Press shift + enter"
   ]
  },
  {
   "cell_type": "markdown",
   "metadata": {},
   "source": [
    "#### Explore the data"
   ]
  },
  {
   "cell_type": "markdown",
   "metadata": {},
   "source": [
    "The next step is to explore the data.  First, let's see how many trips we have."
   ]
  },
  {
   "cell_type": "code",
   "execution_count": 2,
   "metadata": {},
   "outputs": [
    {
     "data": {
      "text/plain": [
       "1000"
      ]
     },
     "execution_count": 2,
     "metadata": {},
     "output_type": "execute_result"
    }
   ],
   "source": [
    "len(trips)"
   ]
  },
  {
   "cell_type": "markdown",
   "metadata": {},
   "source": [
    "Not bad at all.  Now let's see what each individual trip looks like.  Each trip is a dictionary, so we can see the attributes of each trip with the `keys` function."
   ]
  },
  {
   "cell_type": "code",
   "execution_count": 3,
   "metadata": {
    "scrolled": true
   },
   "outputs": [
    {
     "data": {
      "text/plain": [
       "dict_keys(['dropoff_datetime', 'dropoff_latitude', 'dropoff_longitude', 'fare_amount', 'imp_surcharge', 'mta_tax', 'passenger_count', 'payment_type', 'pickup_datetime', 'pickup_latitude', 'pickup_longitude', 'rate_code', 'tip_amount', 'tolls_amount', 'total_amount', 'trip_distance', 'vendor_id'])"
      ]
     },
     "execution_count": 3,
     "metadata": {},
     "output_type": "execute_result"
    }
   ],
   "source": [
    "trips[0].keys()"
   ]
  },
  {
   "cell_type": "markdown",
   "metadata": {},
   "source": [
    "#### Limit our data"
   ]
  },
  {
   "cell_type": "markdown",
   "metadata": {},
   "source": [
    "Ok, now that we have explored some of our data, let's begin to think through what data is relevant for our task."
   ]
  },
  {
   "cell_type": "markdown",
   "metadata": {
    "collapsed": true
   },
   "source": [
    "Remember that our task is to **use the trip location to predict the length of a trip**.  So let's select the `pickup_latitude`, `pickup_longitude`, and `trip_distance` from each trip.  That will give us the trip location and related `trip_distance` for each trip.  Then based on these **actual** trip distances we can use nearest neighbors to predict an **expected** trip distance for a trip, provided an **actual** location."
   ]
  },
  {
   "cell_type": "markdown",
   "metadata": {},
   "source": [
    "** Add in about trip distance ** "
   ]
  },
  {
   "cell_type": "markdown",
   "metadata": {},
   "source": [
    "Write a function called `parse_trips(trips)` that returns a list of the trips with only the following attributes: \n",
    "* `trip_distance`\n",
    "* `pickup_latitude`\n",
    "* `pickup_longitude`"
   ]
  },
  {
   "cell_type": "code",
   "execution_count": 130,
   "metadata": {},
   "outputs": [],
   "source": [
    "def parse_trips(trips):\n",
    "    #filteredTrips = list(map(lambda trip: dict(pickup_latitude=trip['pickup_latitude'],\n",
    "    #                                    pickup_longitude=trip['pickup_longitude'],\n",
    "    #                                    trip_distance=trip['trip_distance']\n",
    "    #                                    ), trips))\n",
    "    #return filteredTrips\n",
    "    #answer\n",
    "    return list(map(lambda trip: {'trip_distance': trip['trip_distance'], 'pickup_latitude': trip['pickup_latitude'], 'pickup_longitude': trip['pickup_longitude']},trips))\n"
   ]
  },
  {
   "cell_type": "code",
   "execution_count": 131,
   "metadata": {},
   "outputs": [
    {
     "data": {
      "text/plain": [
       "{'trip_distance': '18.379999999999999',\n",
       " 'pickup_latitude': '40.64499',\n",
       " 'pickup_longitude': '-73.781149999999997'}"
      ]
     },
     "execution_count": 131,
     "metadata": {},
     "output_type": "execute_result"
    }
   ],
   "source": [
    "parsed_trips = parse_trips(trips)\n",
    "parsed_trips and parsed_trips[0]\n",
    "\n",
    "# {'pickup_latitude': '40.64499',\n",
    "#  'pickup_longitude': '-73.78115',\n",
    "#  'trip_distance': '18.38'}"
   ]
  },
  {
   "cell_type": "markdown",
   "metadata": {},
   "source": [
    "Now, there's just one change to make.  If you look at one of the trips, all of the values are strings.  Let's change them to be floats."
   ]
  },
  {
   "cell_type": "code",
   "execution_count": 132,
   "metadata": {},
   "outputs": [],
   "source": [
    "def float_values(trips):\n",
    "    #for trip in trips:\n",
    "    #    trip['pickup_latitude'] = float(trip['pickup_latitude'])\n",
    "    #    trip['pickup_longitude'] = float(trip['pickup_longitude'])\n",
    "    #    trip['trip_distance'] = float(trip['trip_distance'])\n",
    "    #return trips\n",
    "    #answer\n",
    "    return trips and list(map(lambda trip: {'trip_distance': float(trip['trip_distance']), 'pickup_latitude': float(trip['pickup_latitude']), 'pickup_longitude': float(trip['pickup_longitude'])},trips))\n"
   ]
  },
  {
   "cell_type": "code",
   "execution_count": 133,
   "metadata": {},
   "outputs": [],
   "source": [
    "cleaned_trips = float_values(parsed_trips)"
   ]
  },
  {
   "cell_type": "code",
   "execution_count": 134,
   "metadata": {},
   "outputs": [
    {
     "data": {
      "text/plain": [
       "{'trip_distance': 18.38,\n",
       " 'pickup_latitude': 40.64499,\n",
       " 'pickup_longitude': -73.78115}"
      ]
     },
     "execution_count": 134,
     "metadata": {},
     "output_type": "execute_result"
    }
   ],
   "source": [
    "cleaned_trips[0]\n",
    "\n",
    "# {'pickup_latitude': 40.64499,\n",
    "#  'pickup_longitude': -73.78115,\n",
    "#  'trip_distance': 18.38}"
   ]
  },
  {
   "cell_type": "markdown",
   "metadata": {},
   "source": [
    "### Exploring the Data"
   ]
  },
  {
   "cell_type": "markdown",
   "metadata": {},
   "source": [
    "Now that we have paired down our data, let's get a sense of our trip data.  We can use the `folium` Python library to plot a map of Manhattan, and our data.  First we must import `folium`, and then use the `Map` function to pass through a `location`, and `zoom_start`.  If a map isn't showing up below, copy and paste the command `pip install -r requirements.txt` into your terminal to install `folium` then try again."
   ]
  },
  {
   "cell_type": "code",
   "execution_count": 9,
   "metadata": {},
   "outputs": [],
   "source": [
    "import folium\n",
    "manhattan_map = folium.Map(location=[40.7589, -73.9851], zoom_start=11)"
   ]
  },
  {
   "cell_type": "code",
   "execution_count": 10,
   "metadata": {
    "scrolled": true
   },
   "outputs": [
    {
     "data": {
      "text/html": [
       "<div style=\"width:100%;\"><div style=\"position:relative;width:100%;height:0;padding-bottom:60%;\"><iframe src=\"data:text/html;charset=utf-8;base64,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\" style=\"position:absolute;width:100%;height:100%;left:0;top:0;border:none !important;\" allowfullscreen webkitallowfullscreen mozallowfullscreen></iframe></div></div>"
      ],
      "text/plain": [
       "<folium.folium.Map at 0x7f9d2af34710>"
      ]
     },
     "execution_count": 10,
     "metadata": {},
     "output_type": "execute_result"
    }
   ],
   "source": [
    "manhattan_map"
   ]
  },
  {
   "cell_type": "markdown",
   "metadata": {},
   "source": [
    "Ok, now let's see how we could add a dot to mark a specific location.  We'll start with Times Square."
   ]
  },
  {
   "cell_type": "code",
   "execution_count": 11,
   "metadata": {},
   "outputs": [
    {
     "data": {
      "text/plain": [
       "<folium.vector_layers.CircleMarker at 0x7f9cf3644dd8>"
      ]
     },
     "execution_count": 11,
     "metadata": {},
     "output_type": "execute_result"
    }
   ],
   "source": [
    "marker = folium.CircleMarker(location = [40.7589, -73.9851], radius=10)\n",
    "marker.add_to(manhattan_map)"
   ]
  },
  {
   "cell_type": "markdown",
   "metadata": {},
   "source": [
    "Above, we first create a marker.  Then we add that circle marker to the `manhattan_map` we created earlier. "
   ]
  },
  {
   "cell_type": "code",
   "execution_count": 12,
   "metadata": {
    "scrolled": false
   },
   "outputs": [
    {
     "data": {
      "text/html": [
       "<div style=\"width:100%;\"><div style=\"position:relative;width:100%;height:0;padding-bottom:60%;\"><iframe src=\"data:text/html;charset=utf-8;base64,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\" style=\"position:absolute;width:100%;height:100%;left:0;top:0;border:none !important;\" allowfullscreen webkitallowfullscreen mozallowfullscreen></iframe></div></div>"
      ],
      "text/plain": [
       "<folium.folium.Map at 0x7f9d2af34710>"
      ]
     },
     "execution_count": 12,
     "metadata": {},
     "output_type": "execute_result"
    }
   ],
   "source": [
    "manhattan_map"
   ]
  },
  {
   "cell_type": "markdown",
   "metadata": {},
   "source": [
    "Do you see that blue dot near Time's Square?  That is our marker.  \n",
    "\n",
    "So now that we can plot one marker on a map, we should have a sense of how we can plot many markers on a map to display our taxi ride data.  We simply plot a map, and then we add a marker for each location of a taxi trip.\n",
    "\n",
    "Now let's write some functions to allow us to plot maps and add markers a little more easily.  "
   ]
  },
  {
   "cell_type": "markdown",
   "metadata": {},
   "source": [
    "#### Writing some map plotting functions"
   ]
  },
  {
   "cell_type": "markdown",
   "metadata": {},
   "source": [
    "As a first step towards this, note that the functions to create both a marker and map each take in a location as two element list, representing the latitude and longitude values.  Take another look:\n",
    "\n",
    "```python\n",
    "marker = folium.CircleMarker(location = [40.7589, -73.9851])\n",
    "manhattan_map = folium.Map(location=[40.7589, -73.9851])\n",
    "```\n",
    "\n",
    "So let's write a function called to create this two element list from a trip.  Write a function called `location` that  takes in a trip as an argument and returns a list where the first element is the latitude and the second is the longitude.  Remember that a location looks like the following:"
   ]
  },
  {
   "cell_type": "code",
   "execution_count": 14,
   "metadata": {},
   "outputs": [
    {
     "data": {
      "text/plain": [
       "{'pickup_latitude': 40.64499,\n",
       " 'pickup_longitude': -73.78115,\n",
       " 'trip_distance': 18.38}"
      ]
     },
     "execution_count": 14,
     "metadata": {},
     "output_type": "execute_result"
    }
   ],
   "source": [
    "first_trip = {'pickup_latitude': 40.64499, 'pickup_longitude': -73.78115,  'trip_distance': 18.38}\n",
    "first_trip"
   ]
  },
  {
   "cell_type": "code",
   "execution_count": 136,
   "metadata": {},
   "outputs": [],
   "source": [
    "def location(trip):\n",
    "    #locationArray = []\n",
    "    #locationArray.append(trip['pickup_latitude'])\n",
    "    #locationArray.append(trip['pickup_longitude'])\n",
    "    #return locationArray\n",
    "    #answer\n",
    "    return [trip['pickup_latitude'], trip['pickup_longitude']]\n"
   ]
  },
  {
   "cell_type": "code",
   "execution_count": 137,
   "metadata": {},
   "outputs": [
    {
     "data": {
      "text/plain": [
       "[40.64499, -73.78115]"
      ]
     },
     "execution_count": 137,
     "metadata": {},
     "output_type": "execute_result"
    }
   ],
   "source": [
    "first_location = location(first_trip) # [40.64499, -73.78115]\n",
    "first_location # [40.64499, -73.78115]"
   ]
  },
  {
   "cell_type": "markdown",
   "metadata": {},
   "source": [
    "Ok, now that we can turn a trip into a location, let's turn a location into a marker.  Write a function called `to_marker` that takes in a location (in the form of a list) as an argument, and returns a folium `circleMarker` for that location.  The radius of the marker should always equal 6."
   ]
  },
  {
   "cell_type": "code",
   "execution_count": 119,
   "metadata": {},
   "outputs": [],
   "source": [
    "def to_marker(location):\n",
    "    return folium.CircleMarker(location,  radius=6)"
   ]
  },
  {
   "cell_type": "code",
   "execution_count": 121,
   "metadata": {},
   "outputs": [
    {
     "data": {
      "text/plain": [
       "[40.7589, -73.9851]"
      ]
     },
     "execution_count": 121,
     "metadata": {},
     "output_type": "execute_result"
    }
   ],
   "source": [
    "import json\n",
    "times_square_marker = to_marker([40.7589, -73.9851])\n",
    "\n",
    "times_square_marker and times_square_marker.location # [40.7589, -73.9851]\n",
    "#times_square_marker and json.loads(times_square_marker.options)['radius'] # 6"
   ]
  },
  {
   "cell_type": "markdown",
   "metadata": {},
   "source": [
    "Ok, now that we know how to produce a single marker, let's write a function to produce lots.  We can write a function called `markers_from_trips` that takes in a list of trips, and returns a marker object for each trip.  "
   ]
  },
  {
   "cell_type": "code",
   "execution_count": 138,
   "metadata": {},
   "outputs": [],
   "source": [
    "def markers_from_trips(trips):\n",
    "    #for trip in trips:\n",
    "    #    folium.CircleMarker(location,  radius=6)\n",
    "    #answer\n",
    "    locations = list(map(lambda trip: location(trip), trips))\n",
    "    return list(map(lambda location: to_marker(location),locations))\n"
   ]
  },
  {
   "cell_type": "code",
   "execution_count": 140,
   "metadata": {},
   "outputs": [
    {
     "data": {
      "text/plain": [
       "[<folium.vector_layers.CircleMarker at 0x7f9cf17b65f8>,\n",
       " <folium.vector_layers.CircleMarker at 0x7f9cf17ca550>,\n",
       " <folium.vector_layers.CircleMarker at 0x7f9cf17ca7f0>,\n",
       " <folium.vector_layers.CircleMarker at 0x7f9cf17cae80>,\n",
       " <folium.vector_layers.CircleMarker at 0x7f9cf17cae48>,\n",
       " <folium.vector_layers.CircleMarker at 0x7f9cf175e828>,\n",
       " <folium.vector_layers.CircleMarker at 0x7f9cf175e6d8>,\n",
       " <folium.vector_layers.CircleMarker at 0x7f9cf175e320>,\n",
       " <folium.vector_layers.CircleMarker at 0x7f9cf175e3c8>,\n",
       " <folium.vector_layers.CircleMarker at 0x7f9cf175e4a8>,\n",
       " <folium.vector_layers.CircleMarker at 0x7f9cf175e240>,\n",
       " <folium.vector_layers.CircleMarker at 0x7f9cf175e550>,\n",
       " <folium.vector_layers.CircleMarker at 0x7f9cf175e2b0>,\n",
       " <folium.vector_layers.CircleMarker at 0x7f9cf17b6dd8>,\n",
       " <folium.vector_layers.CircleMarker at 0x7f9cf17cac18>,\n",
       " <folium.vector_layers.CircleMarker at 0x7f9cf17caac8>,\n",
       " <folium.vector_layers.CircleMarker at 0x7f9cf17ca940>,\n",
       " <folium.vector_layers.CircleMarker at 0x7f9cf175e198>,\n",
       " <folium.vector_layers.CircleMarker at 0x7f9cf175e588>,\n",
       " <folium.vector_layers.CircleMarker at 0x7f9cf175e630>,\n",
       " <folium.vector_layers.CircleMarker at 0x7f9cf175e978>,\n",
       " <folium.vector_layers.CircleMarker at 0x7f9cf175e8d0>,\n",
       " <folium.vector_layers.CircleMarker at 0x7f9cf175ea20>,\n",
       " <folium.vector_layers.CircleMarker at 0x7f9cf175ea58>,\n",
       " <folium.vector_layers.CircleMarker at 0x7f9cf175eb00>,\n",
       " <folium.vector_layers.CircleMarker at 0x7f9cf175eba8>,\n",
       " <folium.vector_layers.CircleMarker at 0x7f9cf175ec50>,\n",
       " <folium.vector_layers.CircleMarker at 0x7f9cf175ecf8>,\n",
       " <folium.vector_layers.CircleMarker at 0x7f9cf175eda0>,\n",
       " <folium.vector_layers.CircleMarker at 0x7f9cf175ee48>,\n",
       " <folium.vector_layers.CircleMarker at 0x7f9cf175eef0>,\n",
       " <folium.vector_layers.CircleMarker at 0x7f9cf175ef98>,\n",
       " <folium.vector_layers.CircleMarker at 0x7f9cf175ef28>,\n",
       " <folium.vector_layers.CircleMarker at 0x7f9cf17720b8>,\n",
       " <folium.vector_layers.CircleMarker at 0x7f9cf175e748>,\n",
       " <folium.vector_layers.CircleMarker at 0x7f9cf175ed30>,\n",
       " <folium.vector_layers.CircleMarker at 0x7f9cf175ed68>,\n",
       " <folium.vector_layers.CircleMarker at 0x7f9cf175ea90>,\n",
       " <folium.vector_layers.CircleMarker at 0x7f9cf175eb70>,\n",
       " <folium.vector_layers.CircleMarker at 0x7f9cf175e160>,\n",
       " <folium.vector_layers.CircleMarker at 0x7f9cf175e9e8>,\n",
       " <folium.vector_layers.CircleMarker at 0x7f9cf175e128>,\n",
       " <folium.vector_layers.CircleMarker at 0x7f9cf175e5f8>,\n",
       " <folium.vector_layers.CircleMarker at 0x7f9cf17b6b00>,\n",
       " <folium.vector_layers.CircleMarker at 0x7f9cf175e080>,\n",
       " <folium.vector_layers.CircleMarker at 0x7f9cf17caa20>,\n",
       " <folium.vector_layers.CircleMarker at 0x7f9cf17ca780>,\n",
       " <folium.vector_layers.CircleMarker at 0x7f9cf1772240>,\n",
       " <folium.vector_layers.CircleMarker at 0x7f9cf17722b0>,\n",
       " <folium.vector_layers.CircleMarker at 0x7f9cf17720f0>,\n",
       " <folium.vector_layers.CircleMarker at 0x7f9cf1772390>,\n",
       " <folium.vector_layers.CircleMarker at 0x7f9cf1772438>,\n",
       " <folium.vector_layers.CircleMarker at 0x7f9cf17724e0>,\n",
       " <folium.vector_layers.CircleMarker at 0x7f9cf1772588>,\n",
       " <folium.vector_layers.CircleMarker at 0x7f9cf1772630>,\n",
       " <folium.vector_layers.CircleMarker at 0x7f9cf17caf60>,\n",
       " <folium.vector_layers.CircleMarker at 0x7f9cf175e860>,\n",
       " <folium.vector_layers.CircleMarker at 0x7f9cf175e400>,\n",
       " <folium.vector_layers.CircleMarker at 0x7f9cf175ec18>,\n",
       " <folium.vector_layers.CircleMarker at 0x7f9cf175eac8>,\n",
       " <folium.vector_layers.CircleMarker at 0x7f9cf175edd8>,\n",
       " <folium.vector_layers.CircleMarker at 0x7f9cf175ec88>,\n",
       " <folium.vector_layers.CircleMarker at 0x7f9cf175efd0>,\n",
       " <folium.vector_layers.CircleMarker at 0x7f9cf175ecc0>,\n",
       " <folium.vector_layers.CircleMarker at 0x7f9cf1772320>,\n",
       " <folium.vector_layers.CircleMarker at 0x7f9cf1772208>,\n",
       " <folium.vector_layers.CircleMarker at 0x7f9cf1772128>,\n",
       " <folium.vector_layers.CircleMarker at 0x7f9cf1772198>,\n",
       " <folium.vector_layers.CircleMarker at 0x7f9cf17726d8>,\n",
       " <folium.vector_layers.CircleMarker at 0x7f9cf17725c0>,\n",
       " <folium.vector_layers.CircleMarker at 0x7f9cf17727f0>,\n",
       " <folium.vector_layers.CircleMarker at 0x7f9cf1772828>,\n",
       " <folium.vector_layers.CircleMarker at 0x7f9cf17728d0>,\n",
       " <folium.vector_layers.CircleMarker at 0x7f9cf1772978>,\n",
       " <folium.vector_layers.CircleMarker at 0x7f9cf1772a20>,\n",
       " <folium.vector_layers.CircleMarker at 0x7f9cf1772ac8>,\n",
       " <folium.vector_layers.CircleMarker at 0x7f9cf175e390>,\n",
       " <folium.vector_layers.CircleMarker at 0x7f9cf17ca278>,\n",
       " <folium.vector_layers.CircleMarker at 0x7f9cf175e908>,\n",
       " <folium.vector_layers.CircleMarker at 0x7f9cf175e9b0>,\n",
       " <folium.vector_layers.CircleMarker at 0x7f9cf175e7f0>,\n",
       " <folium.vector_layers.CircleMarker at 0x7f9cf1772908>,\n",
       " <folium.vector_layers.CircleMarker at 0x7f9cf1772940>,\n",
       " <folium.vector_layers.CircleMarker at 0x7f9cf1772048>,\n",
       " <folium.vector_layers.CircleMarker at 0x7f9cf1772278>,\n",
       " <folium.vector_layers.CircleMarker at 0x7f9cf1772518>,\n",
       " <folium.vector_layers.CircleMarker at 0x7f9cf1772550>,\n",
       " <folium.vector_layers.CircleMarker at 0x7f9cf17722e8>,\n",
       " <folium.vector_layers.CircleMarker at 0x7f9cf17729b0>,\n",
       " <folium.vector_layers.CircleMarker at 0x7f9cf1772ba8>,\n",
       " <folium.vector_layers.CircleMarker at 0x7f9cf1772c50>,\n",
       " <folium.vector_layers.CircleMarker at 0x7f9cf17725f8>,\n",
       " <folium.vector_layers.CircleMarker at 0x7f9cf1772d30>,\n",
       " <folium.vector_layers.CircleMarker at 0x7f9cf1772dd8>,\n",
       " <folium.vector_layers.CircleMarker at 0x7f9cf1772e80>,\n",
       " <folium.vector_layers.CircleMarker at 0x7f9cf1772f28>,\n",
       " <folium.vector_layers.CircleMarker at 0x7f9cf1772fd0>,\n",
       " <folium.vector_layers.CircleMarker at 0x7f9cf1772eb8>,\n",
       " <folium.vector_layers.CircleMarker at 0x7f9cf1772860>,\n",
       " <folium.vector_layers.CircleMarker at 0x7f9cf1772ef0>,\n",
       " <folium.vector_layers.CircleMarker at 0x7f9cf1772a58>,\n",
       " <folium.vector_layers.CircleMarker at 0x7f9cf1772b00>,\n",
       " <folium.vector_layers.CircleMarker at 0x7f9cf17721d0>,\n",
       " <folium.vector_layers.CircleMarker at 0x7f9cf1772470>,\n",
       " <folium.vector_layers.CircleMarker at 0x7f9cf1772160>,\n",
       " <folium.vector_layers.CircleMarker at 0x7f9cf17ca1d0>,\n",
       " <folium.vector_layers.CircleMarker at 0x7f9cf1772710>,\n",
       " <folium.vector_layers.CircleMarker at 0x7f9cf1772080>,\n",
       " <folium.vector_layers.CircleMarker at 0x7f9cf17729e8>,\n",
       " <folium.vector_layers.CircleMarker at 0x7f9cf175ebe0>,\n",
       " <folium.vector_layers.CircleMarker at 0x7f9cf175e780>,\n",
       " <folium.vector_layers.CircleMarker at 0x7f9cf175e898>,\n",
       " <folium.vector_layers.CircleMarker at 0x7f9cf1787128>,\n",
       " <folium.vector_layers.CircleMarker at 0x7f9cf1787208>,\n",
       " <folium.vector_layers.CircleMarker at 0x7f9cf17872b0>,\n",
       " <folium.vector_layers.CircleMarker at 0x7f9cf1787358>,\n",
       " <folium.vector_layers.CircleMarker at 0x7f9cf1787400>,\n",
       " <folium.vector_layers.CircleMarker at 0x7f9cf17874a8>,\n",
       " <folium.vector_layers.CircleMarker at 0x7f9cf1787550>,\n",
       " <folium.vector_layers.CircleMarker at 0x7f9cf17875f8>,\n",
       " <folium.vector_layers.CircleMarker at 0x7f9cf175ee80>,\n",
       " <folium.vector_layers.CircleMarker at 0x7f9cf175eb38>,\n",
       " <folium.vector_layers.CircleMarker at 0x7f9cf1772668>,\n",
       " <folium.vector_layers.CircleMarker at 0x7f9cf1772be0>,\n",
       " <folium.vector_layers.CircleMarker at 0x7f9cf1772400>,\n",
       " <folium.vector_layers.CircleMarker at 0x7f9cf1772cc0>,\n",
       " <folium.vector_layers.CircleMarker at 0x7f9cf1772b70>,\n",
       " <folium.vector_layers.CircleMarker at 0x7f9cf1772d68>,\n",
       " <folium.vector_layers.CircleMarker at 0x7f9cf1772c88>,\n",
       " <folium.vector_layers.CircleMarker at 0x7f9cf1787518>,\n",
       " <folium.vector_layers.CircleMarker at 0x7f9cf17873c8>,\n",
       " <folium.vector_layers.CircleMarker at 0x7f9cf17870f0>,\n",
       " <folium.vector_layers.CircleMarker at 0x7f9cf1787198>,\n",
       " <folium.vector_layers.CircleMarker at 0x7f9cf17876a0>,\n",
       " <folium.vector_layers.CircleMarker at 0x7f9cf1787588>,\n",
       " <folium.vector_layers.CircleMarker at 0x7f9cf17877b8>,\n",
       " <folium.vector_layers.CircleMarker at 0x7f9cf17877f0>,\n",
       " <folium.vector_layers.CircleMarker at 0x7f9cf1787898>,\n",
       " <folium.vector_layers.CircleMarker at 0x7f9cf1787940>,\n",
       " <folium.vector_layers.CircleMarker at 0x7f9cf17879e8>,\n",
       " <folium.vector_layers.CircleMarker at 0x7f9cf1787a90>,\n",
       " <folium.vector_layers.CircleMarker at 0x7f9cf1772898>,\n",
       " <folium.vector_layers.CircleMarker at 0x7f9cf1772cf8>,\n",
       " <folium.vector_layers.CircleMarker at 0x7f9cf1ab29e8>,\n",
       " <folium.vector_layers.CircleMarker at 0x7f9cf17723c8>,\n",
       " <folium.vector_layers.CircleMarker at 0x7f9cf1772748>,\n",
       " <folium.vector_layers.CircleMarker at 0x7f9cf17b67b8>,\n",
       " <folium.vector_layers.CircleMarker at 0x7f9cf1772358>,\n",
       " <folium.vector_layers.CircleMarker at 0x7f9cf175ef60>,\n",
       " <folium.vector_layers.CircleMarker at 0x7f9cf17cad30>,\n",
       " <folium.vector_layers.CircleMarker at 0x7f9cf17ca828>,\n",
       " <folium.vector_layers.CircleMarker at 0x7f9cf175e358>,\n",
       " <folium.vector_layers.CircleMarker at 0x7f9cf1787828>,\n",
       " <folium.vector_layers.CircleMarker at 0x7f9cf1787748>,\n",
       " <folium.vector_layers.CircleMarker at 0x7f9cf1787048>,\n",
       " <folium.vector_layers.CircleMarker at 0x7f9cf1787278>,\n",
       " <folium.vector_layers.CircleMarker at 0x7f9cf17874e0>,\n",
       " <folium.vector_layers.CircleMarker at 0x7f9cf1787390>,\n",
       " <folium.vector_layers.CircleMarker at 0x7f9cf1787470>,\n",
       " <folium.vector_layers.CircleMarker at 0x7f9cf1787080>,\n",
       " <folium.vector_layers.CircleMarker at 0x7f9cf1787be0>,\n",
       " <folium.vector_layers.CircleMarker at 0x7f9cf1787ac8>,\n",
       " <folium.vector_layers.CircleMarker at 0x7f9cf1787cc0>,\n",
       " <folium.vector_layers.CircleMarker at 0x7f9cf1787d68>,\n",
       " <folium.vector_layers.CircleMarker at 0x7f9cf17cafd0>,\n",
       " <folium.vector_layers.CircleMarker at 0x7f9cf175e2e8>,\n",
       " <folium.vector_layers.CircleMarker at 0x7f9cf175e4e0>,\n",
       " <folium.vector_layers.CircleMarker at 0x7f9cf1772a90>,\n",
       " <folium.vector_layers.CircleMarker at 0x7f9cf17724a8>,\n",
       " <folium.vector_layers.CircleMarker at 0x7f9cf1772c18>,\n",
       " <folium.vector_layers.CircleMarker at 0x7f9cf17727b8>,\n",
       " <folium.vector_layers.CircleMarker at 0x7f9cf17875c0>,\n",
       " <folium.vector_layers.CircleMarker at 0x7f9cf17872e8>,\n",
       " <folium.vector_layers.CircleMarker at 0x7f9cf1787240>,\n",
       " <folium.vector_layers.CircleMarker at 0x7f9cf1787860>,\n",
       " <folium.vector_layers.CircleMarker at 0x7f9cf1787780>,\n",
       " <folium.vector_layers.CircleMarker at 0x7f9cf1787908>,\n",
       " <folium.vector_layers.CircleMarker at 0x7f9cf1787b38>,\n",
       " <folium.vector_layers.CircleMarker at 0x7f9cf1787e80>,\n",
       " <folium.vector_layers.CircleMarker at 0x7f9cf1787eb8>,\n",
       " <folium.vector_layers.CircleMarker at 0x7f9cf1787da0>,\n",
       " <folium.vector_layers.CircleMarker at 0x7f9cf1787f98>,\n",
       " <folium.vector_layers.CircleMarker at 0x7f9cf1787ba8>,\n",
       " <folium.vector_layers.CircleMarker at 0x7f9cf171c080>,\n",
       " <folium.vector_layers.CircleMarker at 0x7f9cf171c160>,\n",
       " <folium.vector_layers.CircleMarker at 0x7f9cf1772f60>,\n",
       " <folium.vector_layers.CircleMarker at 0x7f9cf175e940>,\n",
       " <folium.vector_layers.CircleMarker at 0x7f9cf17cad68>,\n",
       " <folium.vector_layers.CircleMarker at 0x7f9cf1772780>,\n",
       " <folium.vector_layers.CircleMarker at 0x7f9cf1772b38>,\n",
       " <folium.vector_layers.CircleMarker at 0x7f9cf1787f60>,\n",
       " <folium.vector_layers.CircleMarker at 0x7f9cf1787cf8>,\n",
       " <folium.vector_layers.CircleMarker at 0x7f9cf1787160>,\n",
       " <folium.vector_layers.CircleMarker at 0x7f9cf1787710>,\n",
       " <folium.vector_layers.CircleMarker at 0x7f9cf1787c50>,\n",
       " <folium.vector_layers.CircleMarker at 0x7f9cf17876d8>,\n",
       " <folium.vector_layers.CircleMarker at 0x7f9cf1787b70>,\n",
       " <folium.vector_layers.CircleMarker at 0x7f9cf1787a20>,\n",
       " <folium.vector_layers.CircleMarker at 0x7f9cf171c278>,\n",
       " <folium.vector_layers.CircleMarker at 0x7f9cf171c2b0>,\n",
       " <folium.vector_layers.CircleMarker at 0x7f9cf171c390>,\n",
       " <folium.vector_layers.CircleMarker at 0x7f9cf171c3c8>,\n",
       " <folium.vector_layers.CircleMarker at 0x7f9cf171c470>,\n",
       " <folium.vector_layers.CircleMarker at 0x7f9cf171c518>,\n",
       " <folium.vector_layers.CircleMarker at 0x7f9cf171c5c0>,\n",
       " <folium.vector_layers.CircleMarker at 0x7f9cf171c668>,\n",
       " <folium.vector_layers.CircleMarker at 0x7f9cf171c710>,\n",
       " <folium.vector_layers.CircleMarker at 0x7f9cf1787d30>,\n",
       " <folium.vector_layers.CircleMarker at 0x7f9cf1787320>,\n",
       " <folium.vector_layers.CircleMarker at 0x7f9cf180dc50>,\n",
       " <folium.vector_layers.CircleMarker at 0x7f9cf175eeb8>,\n",
       " <folium.vector_layers.CircleMarker at 0x7f9cf1787e10>,\n",
       " <folium.vector_layers.CircleMarker at 0x7f9cf1787ef0>,\n",
       " <folium.vector_layers.CircleMarker at 0x7f9cf17878d0>,\n",
       " <folium.vector_layers.CircleMarker at 0x7f9cf1772da0>,\n",
       " <folium.vector_layers.CircleMarker at 0x7f9cf17726a0>,\n",
       " <folium.vector_layers.CircleMarker at 0x7f9cf171c400>,\n",
       " <folium.vector_layers.CircleMarker at 0x7f9cf171c0f0>,\n",
       " <folium.vector_layers.CircleMarker at 0x7f9cf171c240>,\n",
       " <folium.vector_layers.CircleMarker at 0x7f9cf171c0b8>,\n",
       " <folium.vector_layers.CircleMarker at 0x7f9cf171c7b8>,\n",
       " <folium.vector_layers.CircleMarker at 0x7f9cf171c6a0>,\n",
       " <folium.vector_layers.CircleMarker at 0x7f9cf171c8d0>,\n",
       " <folium.vector_layers.CircleMarker at 0x7f9cf171c908>,\n",
       " <folium.vector_layers.CircleMarker at 0x7f9cf171c9b0>,\n",
       " <folium.vector_layers.CircleMarker at 0x7f9cf171ca58>,\n",
       " <folium.vector_layers.CircleMarker at 0x7f9cf171cb00>,\n",
       " <folium.vector_layers.CircleMarker at 0x7f9cf171cba8>,\n",
       " <folium.vector_layers.CircleMarker at 0x7f9cf171cc50>,\n",
       " <folium.vector_layers.CircleMarker at 0x7f9cf1772f98>,\n",
       " <folium.vector_layers.CircleMarker at 0x7f9cf17870b8>,\n",
       " <folium.vector_layers.CircleMarker at 0x7f9cf1787630>,\n",
       " <folium.vector_layers.CircleMarker at 0x7f9cf1787c88>,\n",
       " <folium.vector_layers.CircleMarker at 0x7f9cf1787e48>,\n",
       " <folium.vector_layers.CircleMarker at 0x7f9cf171ca90>,\n",
       " <folium.vector_layers.CircleMarker at 0x7f9cf171cac8>,\n",
       " <folium.vector_layers.CircleMarker at 0x7f9cf171c978>,\n",
       " <folium.vector_layers.CircleMarker at 0x7f9cf171c2e8>,\n",
       " <folium.vector_layers.CircleMarker at 0x7f9cf171c7f0>,\n",
       " <folium.vector_layers.CircleMarker at 0x7f9cf171c588>,\n",
       " <folium.vector_layers.CircleMarker at 0x7f9cf171c048>,\n",
       " <folium.vector_layers.CircleMarker at 0x7f9cf171c4a8>,\n",
       " <folium.vector_layers.CircleMarker at 0x7f9cf171ccf8>,\n",
       " <folium.vector_layers.CircleMarker at 0x7f9cf171cbe0>,\n",
       " <folium.vector_layers.CircleMarker at 0x7f9cf171ce10>,\n",
       " <folium.vector_layers.CircleMarker at 0x7f9cf171ce48>,\n",
       " <folium.vector_layers.CircleMarker at 0x7f9cf171cef0>,\n",
       " <folium.vector_layers.CircleMarker at 0x7f9cf171cf98>,\n",
       " <folium.vector_layers.CircleMarker at 0x7f9cf171cf28>,\n",
       " <folium.vector_layers.CircleMarker at 0x7f9cf17300b8>,\n",
       " <folium.vector_layers.CircleMarker at 0x7f9cf17301d0>,\n",
       " <folium.vector_layers.CircleMarker at 0x7f9cf171c9e8>,\n",
       " <folium.vector_layers.CircleMarker at 0x7f9cf171cda0>,\n",
       " <folium.vector_layers.CircleMarker at 0x7f9cf171cdd8>,\n",
       " <folium.vector_layers.CircleMarker at 0x7f9cf171c320>,\n",
       " <folium.vector_layers.CircleMarker at 0x7f9cf171c198>,\n",
       " <folium.vector_layers.CircleMarker at 0x7f9cf171c828>,\n",
       " <folium.vector_layers.CircleMarker at 0x7f9cf171c358>,\n",
       " <folium.vector_layers.CircleMarker at 0x7f9cf171c860>,\n",
       " <folium.vector_layers.CircleMarker at 0x7f9cf171cc18>,\n",
       " <folium.vector_layers.CircleMarker at 0x7f9cf171c940>,\n",
       " <folium.vector_layers.CircleMarker at 0x7f9cf1787668>,\n",
       " <folium.vector_layers.CircleMarker at 0x7f9cf1787438>,\n",
       " <folium.vector_layers.CircleMarker at 0x7f9cf1787a58>,\n",
       " <folium.vector_layers.CircleMarker at 0x7f9cf1730048>,\n",
       " <folium.vector_layers.CircleMarker at 0x7f9cf17300f0>,\n",
       " <folium.vector_layers.CircleMarker at 0x7f9cf1730390>,\n",
       " <folium.vector_layers.CircleMarker at 0x7f9cf17303c8>,\n",
       " <folium.vector_layers.CircleMarker at 0x7f9cf1730470>,\n",
       " <folium.vector_layers.CircleMarker at 0x7f9cf1730518>,\n",
       " <folium.vector_layers.CircleMarker at 0x7f9cf17305c0>,\n",
       " <folium.vector_layers.CircleMarker at 0x7f9cf1730668>,\n",
       " <folium.vector_layers.CircleMarker at 0x7f9cf1730710>,\n",
       " <folium.vector_layers.CircleMarker at 0x7f9cf1772e10>,\n",
       " <folium.vector_layers.CircleMarker at 0x7f9cf17871d0>,\n",
       " <folium.vector_layers.CircleMarker at 0x7f9cf171ca20>,\n",
       " <folium.vector_layers.CircleMarker at 0x7f9cf171c128>,\n",
       " <folium.vector_layers.CircleMarker at 0x7f9cf171c630>,\n",
       " <folium.vector_layers.CircleMarker at 0x7f9cf171cc88>,\n",
       " <folium.vector_layers.CircleMarker at 0x7f9cf171cd68>,\n",
       " <folium.vector_layers.CircleMarker at 0x7f9cf171cd30>,\n",
       " <folium.vector_layers.CircleMarker at 0x7f9cf1730550>,\n",
       " <folium.vector_layers.CircleMarker at 0x7f9cf1730588>,\n",
       " <folium.vector_layers.CircleMarker at 0x7f9cf1730438>,\n",
       " <folium.vector_layers.CircleMarker at 0x7f9cf1730080>,\n",
       " <folium.vector_layers.CircleMarker at 0x7f9cf17302e8>,\n",
       " <folium.vector_layers.CircleMarker at 0x7f9cf17307b8>,\n",
       " <folium.vector_layers.CircleMarker at 0x7f9cf17306a0>,\n",
       " <folium.vector_layers.CircleMarker at 0x7f9cf17308d0>,\n",
       " <folium.vector_layers.CircleMarker at 0x7f9cf1730908>,\n",
       " <folium.vector_layers.CircleMarker at 0x7f9cf17309b0>,\n",
       " <folium.vector_layers.CircleMarker at 0x7f9cf1730a58>,\n",
       " <folium.vector_layers.CircleMarker at 0x7f9cf1730b00>,\n",
       " <folium.vector_layers.CircleMarker at 0x7f9cf1730ba8>,\n",
       " <folium.vector_layers.CircleMarker at 0x7f9cf1730c50>,\n",
       " <folium.vector_layers.CircleMarker at 0x7f9cf175ee10>,\n",
       " <folium.vector_layers.CircleMarker at 0x7f9cf171cb38>,\n",
       " <folium.vector_layers.CircleMarker at 0x7f9cf171c4e0>,\n",
       " <folium.vector_layers.CircleMarker at 0x7f9cf1787f28>,\n",
       " <folium.vector_layers.CircleMarker at 0x7f9cf17879b0>,\n",
       " <folium.vector_layers.CircleMarker at 0x7f9cf171c748>,\n",
       " <folium.vector_layers.CircleMarker at 0x7f9cf1730940>,\n",
       " <folium.vector_layers.CircleMarker at 0x7f9cf1730860>,\n",
       " <folium.vector_layers.CircleMarker at 0x7f9cf1730160>,\n",
       " <folium.vector_layers.CircleMarker at 0x7f9cf1730358>,\n",
       " <folium.vector_layers.CircleMarker at 0x7f9cf17305f8>,\n",
       " <folium.vector_layers.CircleMarker at 0x7f9cf1730400>,\n",
       " <folium.vector_layers.CircleMarker at 0x7f9cf17304e0>,\n",
       " <folium.vector_layers.CircleMarker at 0x7f9cf1730780>,\n",
       " <folium.vector_layers.CircleMarker at 0x7f9cf1730d68>,\n",
       " <folium.vector_layers.CircleMarker at 0x7f9cf1730da0>,\n",
       " <folium.vector_layers.CircleMarker at 0x7f9cf1730c88>,\n",
       " <folium.vector_layers.CircleMarker at 0x7f9cf1730e80>,\n",
       " <folium.vector_layers.CircleMarker at 0x7f9cf1730f28>,\n",
       " <folium.vector_layers.CircleMarker at 0x7f9cf1730fd0>,\n",
       " <folium.vector_layers.CircleMarker at 0x7f9cf1730eb8>,\n",
       " <folium.vector_layers.CircleMarker at 0x7f9cf1787fd0>,\n",
       " <folium.vector_layers.CircleMarker at 0x7f9cf171ce80>,\n",
       " <folium.vector_layers.CircleMarker at 0x7f9cf171ceb8>,\n",
       " <folium.vector_layers.CircleMarker at 0x7f9cf171c550>,\n",
       " <folium.vector_layers.CircleMarker at 0x7f9cf1730f98>,\n",
       " <folium.vector_layers.CircleMarker at 0x7f9cf1730e48>,\n",
       " <folium.vector_layers.CircleMarker at 0x7f9cf1730630>,\n",
       " <folium.vector_layers.CircleMarker at 0x7f9cf1730cf8>,\n",
       " <folium.vector_layers.CircleMarker at 0x7f9cf17307f0>,\n",
       " <folium.vector_layers.CircleMarker at 0x7f9cf17302b0>,\n",
       " <folium.vector_layers.CircleMarker at 0x7f9cf1730ac8>,\n",
       " <folium.vector_layers.CircleMarker at 0x7f9cf1730828>,\n",
       " <folium.vector_layers.CircleMarker at 0x7f9cf17309e8>,\n",
       " <folium.vector_layers.CircleMarker at 0x7f9cf1730a20>,\n",
       " <folium.vector_layers.CircleMarker at 0x7f9cf17420b8>,\n",
       " <folium.vector_layers.CircleMarker at 0x7f9cf17421d0>,\n",
       " <folium.vector_layers.CircleMarker at 0x7f9cf17422b0>,\n",
       " <folium.vector_layers.CircleMarker at 0x7f9cf1742358>,\n",
       " <folium.vector_layers.CircleMarker at 0x7f9cf1742400>,\n",
       " <folium.vector_layers.CircleMarker at 0x7f9cf17424a8>,\n",
       " <folium.vector_layers.CircleMarker at 0x7f9cf1742550>,\n",
       " <folium.vector_layers.CircleMarker at 0x7f9cf17425f8>,\n",
       " <folium.vector_layers.CircleMarker at 0x7f9cf1730f60>,\n",
       " <folium.vector_layers.CircleMarker at 0x7f9cf1730748>,\n",
       " <folium.vector_layers.CircleMarker at 0x7f9cf1730be0>,\n",
       " <folium.vector_layers.CircleMarker at 0x7f9cf17306d8>,\n",
       " <folium.vector_layers.CircleMarker at 0x7f9cf17304a8>,\n",
       " <folium.vector_layers.CircleMarker at 0x7f9cf1787dd8>,\n",
       " <folium.vector_layers.CircleMarker at 0x7f9cf1730278>,\n",
       " <folium.vector_layers.CircleMarker at 0x7f9cf171c898>,\n",
       " <folium.vector_layers.CircleMarker at 0x7f9cf171cb70>,\n",
       " <folium.vector_layers.CircleMarker at 0x7f9cf1742438>,\n",
       " <folium.vector_layers.CircleMarker at 0x7f9cf1742470>,\n",
       " <folium.vector_layers.CircleMarker at 0x7f9cf1742320>,\n",
       " <folium.vector_layers.CircleMarker at 0x7f9cf1742160>,\n",
       " <folium.vector_layers.CircleMarker at 0x7f9cf17426a0>,\n",
       " <folium.vector_layers.CircleMarker at 0x7f9cf1742588>,\n",
       " <folium.vector_layers.CircleMarker at 0x7f9cf17427b8>,\n",
       " <folium.vector_layers.CircleMarker at 0x7f9cf17427f0>,\n",
       " <folium.vector_layers.CircleMarker at 0x7f9cf1742898>,\n",
       " <folium.vector_layers.CircleMarker at 0x7f9cf1742940>,\n",
       " <folium.vector_layers.CircleMarker at 0x7f9cf17429e8>,\n",
       " <folium.vector_layers.CircleMarker at 0x7f9cf1742a90>,\n",
       " <folium.vector_layers.CircleMarker at 0x7f9cf1742b38>,\n",
       " <folium.vector_layers.CircleMarker at 0x7f9cf171c5f8>,\n",
       " <folium.vector_layers.CircleMarker at 0x7f9cf1730c18>,\n",
       " <folium.vector_layers.CircleMarker at 0x7f9cf1730128>,\n",
       " <folium.vector_layers.CircleMarker at 0x7f9cf1730b38>,\n",
       " <folium.vector_layers.CircleMarker at 0x7f9cf1730978>,\n",
       " <folium.vector_layers.CircleMarker at 0x7f9cf1730208>,\n",
       " <folium.vector_layers.CircleMarker at 0x7f9cf1742a58>,\n",
       " <folium.vector_layers.CircleMarker at 0x7f9cf1742908>,\n",
       " <folium.vector_layers.CircleMarker at 0x7f9cf1742710>,\n",
       " <folium.vector_layers.CircleMarker at 0x7f9cf1742780>,\n",
       " <folium.vector_layers.CircleMarker at 0x7f9cf1742208>,\n",
       " <folium.vector_layers.CircleMarker at 0x7f9cf1742240>,\n",
       " <folium.vector_layers.CircleMarker at 0x7f9cf1742518>,\n",
       " <folium.vector_layers.CircleMarker at 0x7f9cf1742be0>,\n",
       " <folium.vector_layers.CircleMarker at 0x7f9cf1742ac8>,\n",
       " <folium.vector_layers.CircleMarker at 0x7f9cf1742cf8>,\n",
       " <folium.vector_layers.CircleMarker at 0x7f9cf1742d30>,\n",
       " <folium.vector_layers.CircleMarker at 0x7f9cf1742dd8>,\n",
       " <folium.vector_layers.CircleMarker at 0x7f9cf1742e80>,\n",
       " <folium.vector_layers.CircleMarker at 0x7f9cf1742f28>,\n",
       " <folium.vector_layers.CircleMarker at 0x7f9cf1742fd0>,\n",
       " <folium.vector_layers.CircleMarker at 0x7f9cf1742eb8>,\n",
       " <folium.vector_layers.CircleMarker at 0x7f9cf1742978>,\n",
       " <folium.vector_layers.CircleMarker at 0x7f9cf1742ef0>,\n",
       " <folium.vector_layers.CircleMarker at 0x7f9cf1742c50>,\n",
       " <folium.vector_layers.CircleMarker at 0x7f9cf1742cc0>,\n",
       " <folium.vector_layers.CircleMarker at 0x7f9cf17424e0>,\n",
       " <folium.vector_layers.CircleMarker at 0x7f9cf17423c8>,\n",
       " <folium.vector_layers.CircleMarker at 0x7f9cf1742748>,\n",
       " <folium.vector_layers.CircleMarker at 0x7f9cf17420f0>,\n",
       " <folium.vector_layers.CircleMarker at 0x7f9cf1742630>,\n",
       " <folium.vector_layers.CircleMarker at 0x7f9cf17428d0>,\n",
       " <folium.vector_layers.CircleMarker at 0x7f9cf171cf60>,\n",
       " <folium.vector_layers.CircleMarker at 0x7f9cf1730d30>,\n",
       " <folium.vector_layers.CircleMarker at 0x7f9cf1730198>,\n",
       " <folium.vector_layers.CircleMarker at 0x7f9cf1730cc0>,\n",
       " <folium.vector_layers.CircleMarker at 0x7f9cf16d7128>,\n",
       " <folium.vector_layers.CircleMarker at 0x7f9cf16d7278>,\n",
       " <folium.vector_layers.CircleMarker at 0x7f9cf16d72b0>,\n",
       " <folium.vector_layers.CircleMarker at 0x7f9cf16d7358>,\n",
       " <folium.vector_layers.CircleMarker at 0x7f9cf16d7400>,\n",
       " <folium.vector_layers.CircleMarker at 0x7f9cf16d74a8>,\n",
       " <folium.vector_layers.CircleMarker at 0x7f9cf16d7550>,\n",
       " <folium.vector_layers.CircleMarker at 0x7f9cf16d75f8>,\n",
       " <folium.vector_layers.CircleMarker at 0x7f9cf1742da0>,\n",
       " <folium.vector_layers.CircleMarker at 0x7f9cf1742860>,\n",
       " <folium.vector_layers.CircleMarker at 0x7f9cf1742390>,\n",
       " <folium.vector_layers.CircleMarker at 0x7f9cf1742c18>,\n",
       " <folium.vector_layers.CircleMarker at 0x7f9cf1742c88>,\n",
       " <folium.vector_layers.CircleMarker at 0x7f9cf1742e10>,\n",
       " <folium.vector_layers.CircleMarker at 0x7f9cf1742668>,\n",
       " <folium.vector_layers.CircleMarker at 0x7f9cf1772e48>,\n",
       " <folium.vector_layers.CircleMarker at 0x7f9cf1742048>,\n",
       " <folium.vector_layers.CircleMarker at 0x7f9cf1730ef0>,\n",
       " <folium.vector_layers.CircleMarker at 0x7f9cf1730240>,\n",
       " <folium.vector_layers.CircleMarker at 0x7f9cf1730320>,\n",
       " <folium.vector_layers.CircleMarker at 0x7f9cf171c780>,\n",
       " <folium.vector_layers.CircleMarker at 0x7f9cf171ccc0>,\n",
       " <folium.vector_layers.CircleMarker at 0x7f9cf16d7518>,\n",
       " <folium.vector_layers.CircleMarker at 0x7f9cf16d73c8>,\n",
       " <folium.vector_layers.CircleMarker at 0x7f9cf16d7160>,\n",
       " <folium.vector_layers.CircleMarker at 0x7f9cf16d7208>,\n",
       " <folium.vector_layers.CircleMarker at 0x7f9cf16d74e0>,\n",
       " <folium.vector_layers.CircleMarker at 0x7f9cf16d76d8>,\n",
       " <folium.vector_layers.CircleMarker at 0x7f9cf16d7780>,\n",
       " <folium.vector_layers.CircleMarker at 0x7f9cf16d70b8>,\n",
       " <folium.vector_layers.CircleMarker at 0x7f9cf1787c18>,\n",
       " <folium.vector_layers.CircleMarker at 0x7f9cf171c6d8>,\n",
       " <folium.vector_layers.CircleMarker at 0x7f9cf1730b70>,\n",
       " <folium.vector_layers.CircleMarker at 0x7f9cf1730dd8>,\n",
       " <folium.vector_layers.CircleMarker at 0x7f9cf1742f98>,\n",
       " <folium.vector_layers.CircleMarker at 0x7f9cf1742a20>,\n",
       " <folium.vector_layers.CircleMarker at 0x7f9cf1742b70>,\n",
       " <folium.vector_layers.CircleMarker at 0x7f9cf1742128>,\n",
       " <folium.vector_layers.CircleMarker at 0x7f9cf1742198>,\n",
       " <folium.vector_layers.CircleMarker at 0x7f9cf16d76a0>,\n",
       " <folium.vector_layers.CircleMarker at 0x7f9cf16d7710>,\n",
       " <folium.vector_layers.CircleMarker at 0x7f9cf16d7240>,\n",
       " <folium.vector_layers.CircleMarker at 0x7f9cf16d7080>,\n",
       " <folium.vector_layers.CircleMarker at 0x7f9cf16d7668>,\n",
       " <folium.vector_layers.CircleMarker at 0x7f9cf16d78d0>,\n",
       " <folium.vector_layers.CircleMarker at 0x7f9cf16d7908>,\n",
       " <folium.vector_layers.CircleMarker at 0x7f9cf16d77f0>,\n",
       " <folium.vector_layers.CircleMarker at 0x7f9cf16d79e8>,\n",
       " <folium.vector_layers.CircleMarker at 0x7f9cf16d7a90>,\n",
       " <folium.vector_layers.CircleMarker at 0x7f9cf16d7b38>,\n",
       " <folium.vector_layers.CircleMarker at 0x7f9cf16d7be0>,\n",
       " <folium.vector_layers.CircleMarker at 0x7f9cf16d7c88>,\n",
       " <folium.vector_layers.CircleMarker at 0x7f9cf1742f60>,\n",
       " <folium.vector_layers.CircleMarker at 0x7f9cf1742828>,\n",
       " <folium.vector_layers.CircleMarker at 0x7f9cf1730898>,\n",
       " <folium.vector_layers.CircleMarker at 0x7f9cf171c438>,\n",
       " <folium.vector_layers.CircleMarker at 0x7f9cf1742e48>,\n",
       " <folium.vector_layers.CircleMarker at 0x7f9cf1742278>,\n",
       " <folium.vector_layers.CircleMarker at 0x7f9cf16d7ba8>,\n",
       " <folium.vector_layers.CircleMarker at 0x7f9cf16d7a58>,\n",
       " <folium.vector_layers.CircleMarker at 0x7f9cf16d7588>,\n",
       " <folium.vector_layers.CircleMarker at 0x7f9cf16d77b8>,\n",
       " <folium.vector_layers.CircleMarker at 0x7f9cf16d7198>,\n",
       " <folium.vector_layers.CircleMarker at 0x7f9cf16d7320>,\n",
       " <folium.vector_layers.CircleMarker at 0x7f9cf16d7748>,\n",
       " <folium.vector_layers.CircleMarker at 0x7f9cf16d7d30>,\n",
       " <folium.vector_layers.CircleMarker at 0x7f9cf16d7c18>,\n",
       " <folium.vector_layers.CircleMarker at 0x7f9cf16d7e48>,\n",
       " <folium.vector_layers.CircleMarker at 0x7f9cf16d7e80>,\n",
       " <folium.vector_layers.CircleMarker at 0x7f9cf16d7f28>,\n",
       " <folium.vector_layers.CircleMarker at 0x7f9cf16d7fd0>,\n",
       " <folium.vector_layers.CircleMarker at 0x7f9cf16d7eb8>,\n",
       " <folium.vector_layers.CircleMarker at 0x7f9cf16ee0b8>,\n",
       " <folium.vector_layers.CircleMarker at 0x7f9cf16ee198>,\n",
       " <folium.vector_layers.CircleMarker at 0x7f9cf16d7ac8>,\n",
       " <folium.vector_layers.CircleMarker at 0x7f9cf16d7ef0>,\n",
       " <folium.vector_layers.CircleMarker at 0x7f9cf16d72e8>,\n",
       " <folium.vector_layers.CircleMarker at 0x7f9cf16d7b70>,\n",
       " <folium.vector_layers.CircleMarker at 0x7f9cf16d7978>,\n",
       " <folium.vector_layers.CircleMarker at 0x7f9cf16d7860>,\n",
       " <folium.vector_layers.CircleMarker at 0x7f9cf1730a90>,\n",
       " <folium.vector_layers.CircleMarker at 0x7f9cf16d7940>,\n",
       " <folium.vector_layers.CircleMarker at 0x7f9cf171c1d0>,\n",
       " <folium.vector_layers.CircleMarker at 0x7f9cf16d79b0>,\n",
       " <folium.vector_layers.CircleMarker at 0x7f9cf1742080>,\n",
       " <folium.vector_layers.CircleMarker at 0x7f9cf1742ba8>,\n",
       " <folium.vector_layers.CircleMarker at 0x7f9cf17425c0>,\n",
       " <folium.vector_layers.CircleMarker at 0x7f9cf16ee240>,\n",
       " <folium.vector_layers.CircleMarker at 0x7f9cf16ee128>,\n",
       " <folium.vector_layers.CircleMarker at 0x7f9cf16ee3c8>,\n",
       " <folium.vector_layers.CircleMarker at 0x7f9cf16ee400>,\n",
       " <folium.vector_layers.CircleMarker at 0x7f9cf16ee4a8>,\n",
       " <folium.vector_layers.CircleMarker at 0x7f9cf16ee550>,\n",
       " <folium.vector_layers.CircleMarker at 0x7f9cf16ee5f8>,\n",
       " <folium.vector_layers.CircleMarker at 0x7f9cf16ee6a0>,\n",
       " <folium.vector_layers.CircleMarker at 0x7f9cf16ee748>,\n",
       " <folium.vector_layers.CircleMarker at 0x7f9cf171cfd0>,\n",
       " <folium.vector_layers.CircleMarker at 0x7f9cf1742d68>,\n",
       " <folium.vector_layers.CircleMarker at 0x7f9cf16d7c50>,\n",
       " <folium.vector_layers.CircleMarker at 0x7f9cf16d7470>,\n",
       " <folium.vector_layers.CircleMarker at 0x7f9cf16d7da0>,\n",
       " <folium.vector_layers.CircleMarker at 0x7f9cf16d75c0>,\n",
       " <folium.vector_layers.CircleMarker at 0x7f9cf16d7dd8>,\n",
       " <folium.vector_layers.CircleMarker at 0x7f9cf16d7630>,\n",
       " <folium.vector_layers.CircleMarker at 0x7f9cf16ee588>,\n",
       " <folium.vector_layers.CircleMarker at 0x7f9cf16ee5c0>,\n",
       " <folium.vector_layers.CircleMarker at 0x7f9cf16ee470>,\n",
       " <folium.vector_layers.CircleMarker at 0x7f9cf16ee048>,\n",
       " <folium.vector_layers.CircleMarker at 0x7f9cf16ee320>,\n",
       " <folium.vector_layers.CircleMarker at 0x7f9cf16ee208>,\n",
       " <folium.vector_layers.CircleMarker at 0x7f9cf16ee860>,\n",
       " <folium.vector_layers.CircleMarker at 0x7f9cf16ee898>,\n",
       " <folium.vector_layers.CircleMarker at 0x7f9cf16ee780>,\n",
       " <folium.vector_layers.CircleMarker at 0x7f9cf16ee978>,\n",
       " <folium.vector_layers.CircleMarker at 0x7f9cf16eea20>,\n",
       " <folium.vector_layers.CircleMarker at 0x7f9cf16eeac8>,\n",
       " <folium.vector_layers.CircleMarker at 0x7f9cf16eeb70>,\n",
       " <folium.vector_layers.CircleMarker at 0x7f9cf16eec18>,\n",
       " <folium.vector_layers.CircleMarker at 0x7f9cf16d7438>,\n",
       " <folium.vector_layers.CircleMarker at 0x7f9cf1730e10>,\n",
       " <folium.vector_layers.CircleMarker at 0x7f9cf16d7b00>,\n",
       " <folium.vector_layers.CircleMarker at 0x7f9cf17422e8>,\n",
       " <folium.vector_layers.CircleMarker at 0x7f9cf16d7f60>,\n",
       " <folium.vector_layers.CircleMarker at 0x7f9cf16d7e10>,\n",
       " <folium.vector_layers.CircleMarker at 0x7f9cf16ee0f0>,\n",
       " <folium.vector_layers.CircleMarker at 0x7f9cf16ee828>,\n",
       " <folium.vector_layers.CircleMarker at 0x7f9cf16ee908>,\n",
       " <folium.vector_layers.CircleMarker at 0x7f9cf16ee390>,\n",
       " <folium.vector_layers.CircleMarker at 0x7f9cf16ee160>,\n",
       " <folium.vector_layers.CircleMarker at 0x7f9cf16ee438>,\n",
       " <folium.vector_layers.CircleMarker at 0x7f9cf16ee518>,\n",
       " <folium.vector_layers.CircleMarker at 0x7f9cf16ee7b8>,\n",
       " <folium.vector_layers.CircleMarker at 0x7f9cf16eed30>,\n",
       " <folium.vector_layers.CircleMarker at 0x7f9cf16eed68>,\n",
       " <folium.vector_layers.CircleMarker at 0x7f9cf16eec50>,\n",
       " <folium.vector_layers.CircleMarker at 0x7f9cf16eee48>,\n",
       " <folium.vector_layers.CircleMarker at 0x7f9cf16eeef0>,\n",
       " <folium.vector_layers.CircleMarker at 0x7f9cf16eef98>,\n",
       " <folium.vector_layers.CircleMarker at 0x7f9cf16eef28>,\n",
       " <folium.vector_layers.CircleMarker at 0x7f9cf17429b0>,\n",
       " <folium.vector_layers.CircleMarker at 0x7f9cf16d7a20>,\n",
       " <folium.vector_layers.CircleMarker at 0x7f9cf16d7d68>,\n",
       " <folium.vector_layers.CircleMarker at 0x7f9cf16d7390>,\n",
       " <folium.vector_layers.CircleMarker at 0x7f9cf16eef60>,\n",
       " <folium.vector_layers.CircleMarker at 0x7f9cf16eee10>,\n",
       " <folium.vector_layers.CircleMarker at 0x7f9cf16ee668>,\n",
       " <folium.vector_layers.CircleMarker at 0x7f9cf16eecc0>,\n",
       " <folium.vector_layers.CircleMarker at 0x7f9cf16ee7f0>,\n",
       " <folium.vector_layers.CircleMarker at 0x7f9cf16ee2e8>,\n",
       " <folium.vector_layers.CircleMarker at 0x7f9cf16eea90>,\n",
       " <folium.vector_layers.CircleMarker at 0x7f9cf16ee630>,\n",
       " <folium.vector_layers.CircleMarker at 0x7f9cf16ee9b0>,\n",
       " <folium.vector_layers.CircleMarker at 0x7f9cf16ee9e8>,\n",
       " <folium.vector_layers.CircleMarker at 0x7f9cf16ff0b8>,\n",
       " <folium.vector_layers.CircleMarker at 0x7f9cf16ff208>,\n",
       " <folium.vector_layers.CircleMarker at 0x7f9cf16ff278>,\n",
       " <folium.vector_layers.CircleMarker at 0x7f9cf16ff320>,\n",
       " <folium.vector_layers.CircleMarker at 0x7f9cf16ff3c8>,\n",
       " <folium.vector_layers.CircleMarker at 0x7f9cf16ff470>,\n",
       " <folium.vector_layers.CircleMarker at 0x7f9cf16ff518>,\n",
       " <folium.vector_layers.CircleMarker at 0x7f9cf16ff5c0>,\n",
       " <folium.vector_layers.CircleMarker at 0x7f9cf16eebe0>,\n",
       " <folium.vector_layers.CircleMarker at 0x7f9cf16ee8d0>,\n",
       " <folium.vector_layers.CircleMarker at 0x7f9cf16eeba8>,\n",
       " <folium.vector_layers.CircleMarker at 0x7f9cf16ee710>,\n",
       " <folium.vector_layers.CircleMarker at 0x7f9cf16ee4e0>,\n",
       " <folium.vector_layers.CircleMarker at 0x7f9cf1742b00>,\n",
       " <folium.vector_layers.CircleMarker at 0x7f9cf16ee2b0>,\n",
       " <folium.vector_layers.CircleMarker at 0x7f9cf16d7f98>,\n",
       " <folium.vector_layers.CircleMarker at 0x7f9cf16d71d0>,\n",
       " <folium.vector_layers.CircleMarker at 0x7f9cf16ff400>,\n",
       " <folium.vector_layers.CircleMarker at 0x7f9cf16ff438>,\n",
       " <folium.vector_layers.CircleMarker at 0x7f9cf16ff2e8>,\n",
       " <folium.vector_layers.CircleMarker at 0x7f9cf16ff160>,\n",
       " <folium.vector_layers.CircleMarker at 0x7f9cf16ff668>,\n",
       " <folium.vector_layers.CircleMarker at 0x7f9cf16ff550>,\n",
       " <folium.vector_layers.CircleMarker at 0x7f9cf16ff780>,\n",
       " <folium.vector_layers.CircleMarker at 0x7f9cf16ff7b8>,\n",
       " <folium.vector_layers.CircleMarker at 0x7f9cf16ff860>,\n",
       " <folium.vector_layers.CircleMarker at 0x7f9cf16ff908>,\n",
       " <folium.vector_layers.CircleMarker at 0x7f9cf16ff9b0>,\n",
       " <folium.vector_layers.CircleMarker at 0x7f9cf16ffa58>,\n",
       " <folium.vector_layers.CircleMarker at 0x7f9cf16ffb00>,\n",
       " <folium.vector_layers.CircleMarker at 0x7f9cf16d7048>,\n",
       " <folium.vector_layers.CircleMarker at 0x7f9cf16eee80>,\n",
       " <folium.vector_layers.CircleMarker at 0x7f9cf16ee080>,\n",
       " <folium.vector_layers.CircleMarker at 0x7f9cf16eeb00>,\n",
       " <folium.vector_layers.CircleMarker at 0x7f9cf16ee940>,\n",
       " <folium.vector_layers.CircleMarker at 0x7f9cf16ee1d0>,\n",
       " <folium.vector_layers.CircleMarker at 0x7f9cf16ffa20>,\n",
       " <folium.vector_layers.CircleMarker at 0x7f9cf16ff8d0>,\n",
       " <folium.vector_layers.CircleMarker at 0x7f9cf16ff6d8>,\n",
       " <folium.vector_layers.CircleMarker at 0x7f9cf16ff748>,\n",
       " <folium.vector_layers.CircleMarker at 0x7f9cf16ff240>,\n",
       " <folium.vector_layers.CircleMarker at 0x7f9cf16ff048>,\n",
       " <folium.vector_layers.CircleMarker at 0x7f9cf16ff4e0>,\n",
       " <folium.vector_layers.CircleMarker at 0x7f9cf16ffba8>,\n",
       " <folium.vector_layers.CircleMarker at 0x7f9cf16ffa90>,\n",
       " <folium.vector_layers.CircleMarker at 0x7f9cf16ffcc0>,\n",
       " <folium.vector_layers.CircleMarker at 0x7f9cf16ffcf8>,\n",
       " <folium.vector_layers.CircleMarker at 0x7f9cf16ffda0>,\n",
       " <folium.vector_layers.CircleMarker at 0x7f9cf16ffe48>,\n",
       " <folium.vector_layers.CircleMarker at 0x7f9cf16ffef0>,\n",
       " <folium.vector_layers.CircleMarker at 0x7f9cf16fff98>,\n",
       " <folium.vector_layers.CircleMarker at 0x7f9cf16fff28>,\n",
       " <folium.vector_layers.CircleMarker at 0x7f9cf16ffe80>,\n",
       " <folium.vector_layers.CircleMarker at 0x7f9cf16ffeb8>,\n",
       " <folium.vector_layers.CircleMarker at 0x7f9cf16ffc18>,\n",
       " <folium.vector_layers.CircleMarker at 0x7f9cf16ffc88>,\n",
       " <folium.vector_layers.CircleMarker at 0x7f9cf16ff4a8>,\n",
       " <folium.vector_layers.CircleMarker at 0x7f9cf16ff390>,\n",
       " <folium.vector_layers.CircleMarker at 0x7f9cf16ff710>,\n",
       " <folium.vector_layers.CircleMarker at 0x7f9cf16ff128>,\n",
       " <folium.vector_layers.CircleMarker at 0x7f9cf16ff5f8>,\n",
       " <folium.vector_layers.CircleMarker at 0x7f9cf16ff898>,\n",
       " <folium.vector_layers.CircleMarker at 0x7f9cf16d7cc0>,\n",
       " <folium.vector_layers.CircleMarker at 0x7f9cf16eecf8>,\n",
       " <folium.vector_layers.CircleMarker at 0x7f9cf16ee278>,\n",
       " <folium.vector_layers.CircleMarker at 0x7f9cf16eec88>,\n",
       " <folium.vector_layers.CircleMarker at 0x7f9cf1696080>,\n",
       " <folium.vector_layers.CircleMarker at 0x7f9cf1696160>,\n",
       " <folium.vector_layers.CircleMarker at 0x7f9cf1696278>,\n",
       " <folium.vector_layers.CircleMarker at 0x7f9cf1696320>,\n",
       " <folium.vector_layers.CircleMarker at 0x7f9cf16963c8>,\n",
       " <folium.vector_layers.CircleMarker at 0x7f9cf1696470>,\n",
       " <folium.vector_layers.CircleMarker at 0x7f9cf1696518>,\n",
       " <folium.vector_layers.CircleMarker at 0x7f9cf16965c0>,\n",
       " <folium.vector_layers.CircleMarker at 0x7f9cf16d70f0>,\n",
       " <folium.vector_layers.CircleMarker at 0x7f9cf16eeeb8>,\n",
       " <folium.vector_layers.CircleMarker at 0x7f9cf16ff978>,\n",
       " <folium.vector_layers.CircleMarker at 0x7f9cf16ff828>,\n",
       " <folium.vector_layers.CircleMarker at 0x7f9cf16ff2b0>,\n",
       " <folium.vector_layers.CircleMarker at 0x7f9cf16ffb38>,\n",
       " <folium.vector_layers.CircleMarker at 0x7f9cf16ff588>,\n",
       " <folium.vector_layers.CircleMarker at 0x7f9cf16ffd30>,\n",
       " <folium.vector_layers.CircleMarker at 0x7f9cf16ffc50>,\n",
       " <folium.vector_layers.CircleMarker at 0x7f9cf16964e0>,\n",
       " <folium.vector_layers.CircleMarker at 0x7f9cf1696390>,\n",
       " <folium.vector_layers.CircleMarker at 0x7f9cf1696208>,\n",
       " <folium.vector_layers.CircleMarker at 0x7f9cf16960b8>,\n",
       " <folium.vector_layers.CircleMarker at 0x7f9cf1696668>,\n",
       " <folium.vector_layers.CircleMarker at 0x7f9cf1696550>,\n",
       " <folium.vector_layers.CircleMarker at 0x7f9cf1696780>,\n",
       " <folium.vector_layers.CircleMarker at 0x7f9cf16967b8>,\n",
       " <folium.vector_layers.CircleMarker at 0x7f9cf1696860>,\n",
       " <folium.vector_layers.CircleMarker at 0x7f9cf1696908>,\n",
       " <folium.vector_layers.CircleMarker at 0x7f9cf16969b0>,\n",
       " <folium.vector_layers.CircleMarker at 0x7f9cf1696a58>,\n",
       " <folium.vector_layers.CircleMarker at 0x7f9cf1696b00>,\n",
       " <folium.vector_layers.CircleMarker at 0x7f9cf16ff6a0>,\n",
       " <folium.vector_layers.CircleMarker at 0x7f9cf16ff9e8>,\n",
       " <folium.vector_layers.CircleMarker at 0x7f9cf16ff7f0>,\n",
       " <folium.vector_layers.CircleMarker at 0x7f9cf16eeda0>,\n",
       " <folium.vector_layers.CircleMarker at 0x7f9cf16ee358>,\n",
       " <folium.vector_layers.CircleMarker at 0x7f9cf16ffac8>,\n",
       " <folium.vector_layers.CircleMarker at 0x7f9cf1696a20>,\n",
       " <folium.vector_layers.CircleMarker at 0x7f9cf16968d0>,\n",
       " <folium.vector_layers.CircleMarker at 0x7f9cf16966d8>,\n",
       " <folium.vector_layers.CircleMarker at 0x7f9cf1696748>,\n",
       " <folium.vector_layers.CircleMarker at 0x7f9cf16960f0>,\n",
       " <folium.vector_layers.CircleMarker at 0x7f9cf1696128>,\n",
       " <folium.vector_layers.CircleMarker at 0x7f9cf1696198>,\n",
       " <folium.vector_layers.CircleMarker at 0x7f9cf1696630>,\n",
       " <folium.vector_layers.CircleMarker at 0x7f9cf1696c18>,\n",
       " <folium.vector_layers.CircleMarker at 0x7f9cf1696c50>,\n",
       " <folium.vector_layers.CircleMarker at 0x7f9cf1696b38>,\n",
       " <folium.vector_layers.CircleMarker at 0x7f9cf1696d30>,\n",
       " <folium.vector_layers.CircleMarker at 0x7f9cf1696dd8>,\n",
       " <folium.vector_layers.CircleMarker at 0x7f9cf1696e80>,\n",
       " <folium.vector_layers.CircleMarker at 0x7f9cf1696f28>,\n",
       " <folium.vector_layers.CircleMarker at 0x7f9cf16ff1d0>,\n",
       " <folium.vector_layers.CircleMarker at 0x7f9cf16ffd68>,\n",
       " <folium.vector_layers.CircleMarker at 0x7f9cf16ff940>,\n",
       " <folium.vector_layers.CircleMarker at 0x7f9cf17426d8>,\n",
       " <folium.vector_layers.CircleMarker at 0x7f9cf16d7898>,\n",
       " <folium.vector_layers.CircleMarker at 0x7f9cf16ffbe0>,\n",
       " <folium.vector_layers.CircleMarker at 0x7f9cf16ff080>,\n",
       " <folium.vector_layers.CircleMarker at 0x7f9cf16eefd0>,\n",
       " <folium.vector_layers.CircleMarker at 0x7f9cf1696fd0>,\n",
       " <folium.vector_layers.CircleMarker at 0x7f9cf1696e48>,\n",
       " <folium.vector_layers.CircleMarker at 0x7f9cf1696cf8>,\n",
       " <folium.vector_layers.CircleMarker at 0x7f9cf1696438>,\n",
       " <folium.vector_layers.CircleMarker at 0x7f9cf1696ba8>,\n",
       " <folium.vector_layers.CircleMarker at 0x7f9cf16961d0>,\n",
       " <folium.vector_layers.CircleMarker at 0x7f9cf16962b0>,\n",
       " <folium.vector_layers.CircleMarker at 0x7f9cf16967f0>,\n",
       " <folium.vector_layers.CircleMarker at 0x7f9cf1696828>,\n",
       " <folium.vector_layers.CircleMarker at 0x7f9cf1696ac8>,\n",
       " <folium.vector_layers.CircleMarker at 0x7f9cf1696f60>,\n",
       " <folium.vector_layers.CircleMarker at 0x7f9cf16965f8>,\n",
       " <folium.vector_layers.CircleMarker at 0x7f9cf16a9128>,\n",
       " <folium.vector_layers.CircleMarker at 0x7f9cf16a9208>,\n",
       " <folium.vector_layers.CircleMarker at 0x7f9cf16a92b0>,\n",
       " <folium.vector_layers.CircleMarker at 0x7f9cf1696d68>,\n",
       " <folium.vector_layers.CircleMarker at 0x7f9cf1696978>,\n",
       " <folium.vector_layers.CircleMarker at 0x7f9cf1696a90>,\n",
       " <folium.vector_layers.CircleMarker at 0x7f9cf1696588>,\n",
       " <folium.vector_layers.CircleMarker at 0x7f9cf1696400>,\n",
       " <folium.vector_layers.CircleMarker at 0x7f9cf16d7828>,\n",
       " <folium.vector_layers.CircleMarker at 0x7f9cf171c208>,\n",
       " <folium.vector_layers.CircleMarker at 0x7f9cf16eeb38>,\n",
       " <folium.vector_layers.CircleMarker at 0x7f9cf16ee6d8>,\n",
       " <folium.vector_layers.CircleMarker at 0x7f9cf1696ef0>,\n",
       " <folium.vector_layers.CircleMarker at 0x7f9cf16ffe10>,\n",
       " <folium.vector_layers.CircleMarker at 0x7f9cf16ff358>,\n",
       " <folium.vector_layers.CircleMarker at 0x7f9cf16fffd0>,\n",
       " <folium.vector_layers.CircleMarker at 0x7f9cf16a90b8>,\n",
       " <folium.vector_layers.CircleMarker at 0x7f9cf16a93c8>,\n",
       " <folium.vector_layers.CircleMarker at 0x7f9cf16a9400>,\n",
       " <folium.vector_layers.CircleMarker at 0x7f9cf16a92e8>,\n",
       " <folium.vector_layers.CircleMarker at 0x7f9cf16a94e0>,\n",
       " <folium.vector_layers.CircleMarker at 0x7f9cf16a9588>,\n",
       " <folium.vector_layers.CircleMarker at 0x7f9cf16a9630>,\n",
       " <folium.vector_layers.CircleMarker at 0x7f9cf16a96d8>,\n",
       " <folium.vector_layers.CircleMarker at 0x7f9cf16d7cf8>,\n",
       " <folium.vector_layers.CircleMarker at 0x7f9cf16eedd8>,\n",
       " <folium.vector_layers.CircleMarker at 0x7f9cf16ff0f0>,\n",
       " <folium.vector_layers.CircleMarker at 0x7f9cf1696cc0>,\n",
       " <folium.vector_layers.CircleMarker at 0x7f9cf1696240>,\n",
       " <folium.vector_layers.CircleMarker at 0x7f9cf1696eb8>,\n",
       " <folium.vector_layers.CircleMarker at 0x7f9cf1696898>,\n",
       " <folium.vector_layers.CircleMarker at 0x7f9cf1696b70>,\n",
       " <folium.vector_layers.CircleMarker at 0x7f9cf16969e8>,\n",
       " <folium.vector_layers.CircleMarker at 0x7f9cf16a9080>,\n",
       " <folium.vector_layers.CircleMarker at 0x7f9cf16a9390>,\n",
       " <folium.vector_layers.CircleMarker at 0x7f9cf16a9470>,\n",
       " <folium.vector_layers.CircleMarker at 0x7f9cf16a9358>,\n",
       " <folium.vector_layers.CircleMarker at 0x7f9cf16a90f0>,\n",
       " <folium.vector_layers.CircleMarker at 0x7f9cf16a9668>,\n",
       " <folium.vector_layers.CircleMarker at 0x7f9cf16a9898>,\n",
       " <folium.vector_layers.CircleMarker at 0x7f9cf16a98d0>,\n",
       " <folium.vector_layers.CircleMarker at 0x7f9cf16a9978>,\n",
       " <folium.vector_layers.CircleMarker at 0x7f9cf16a9a20>,\n",
       " <folium.vector_layers.CircleMarker at 0x7f9cf16a9ac8>,\n",
       " <folium.vector_layers.CircleMarker at 0x7f9cf16a9b70>,\n",
       " <folium.vector_layers.CircleMarker at 0x7f9cf16a9c18>,\n",
       " <folium.vector_layers.CircleMarker at 0x7f9cf16eea58>,\n",
       " <folium.vector_layers.CircleMarker at 0x7f9cf1696da0>,\n",
       " <folium.vector_layers.CircleMarker at 0x7f9cf1696940>,\n",
       " <folium.vector_layers.CircleMarker at 0x7f9cf1696048>,\n",
       " <folium.vector_layers.CircleMarker at 0x7f9cf16ffb70>,\n",
       " <folium.vector_layers.CircleMarker at 0x7f9cf16a9a58>,\n",
       " <folium.vector_layers.CircleMarker at 0x7f9cf16a9a90>,\n",
       " <folium.vector_layers.CircleMarker at 0x7f9cf16a9940>,\n",
       " <folium.vector_layers.CircleMarker at 0x7f9cf16a9160>,\n",
       " <folium.vector_layers.CircleMarker at 0x7f9cf16a97b8>,\n",
       " <folium.vector_layers.CircleMarker at 0x7f9cf16a95f8>,\n",
       " <folium.vector_layers.CircleMarker at 0x7f9cf16a9048>,\n",
       " <folium.vector_layers.CircleMarker at 0x7f9cf16a9518>,\n",
       " <folium.vector_layers.CircleMarker at 0x7f9cf16a9cc0>,\n",
       " <folium.vector_layers.CircleMarker at 0x7f9cf16a9ba8>,\n",
       " <folium.vector_layers.CircleMarker at 0x7f9cf16a9dd8>,\n",
       " <folium.vector_layers.CircleMarker at 0x7f9cf16a9e10>,\n",
       " <folium.vector_layers.CircleMarker at 0x7f9cf16a9eb8>,\n",
       " <folium.vector_layers.CircleMarker at 0x7f9cf16a9f60>,\n",
       " <folium.vector_layers.CircleMarker at 0x7f9cf16a9ef0>,\n",
       " <folium.vector_layers.CircleMarker at 0x7f9cf16bf048>,\n",
       " <folium.vector_layers.CircleMarker at 0x7f9cf16bf128>,\n",
       " <folium.vector_layers.CircleMarker at 0x7f9cf16a99b0>,\n",
       " <folium.vector_layers.CircleMarker at 0x7f9cf16a9f28>,\n",
       " <folium.vector_layers.CircleMarker at 0x7f9cf16a9780>,\n",
       " <folium.vector_layers.CircleMarker at 0x7f9cf16a9cf8>,\n",
       " <folium.vector_layers.CircleMarker at 0x7f9cf16a94a8>,\n",
       " <folium.vector_layers.CircleMarker at 0x7f9cf16a96a0>,\n",
       " <folium.vector_layers.CircleMarker at 0x7f9cf16a9710>,\n",
       " <folium.vector_layers.CircleMarker at 0x7f9cf16a9278>,\n",
       " <folium.vector_layers.CircleMarker at 0x7f9cf16a9b38>,\n",
       " <folium.vector_layers.CircleMarker at 0x7f9cf16a9828>,\n",
       " <folium.vector_layers.CircleMarker at 0x7f9cf16fff60>,\n",
       " <folium.vector_layers.CircleMarker at 0x7f9cf16962e8>,\n",
       " <folium.vector_layers.CircleMarker at 0x7f9cf1696c88>,\n",
       " <folium.vector_layers.CircleMarker at 0x7f9cf16bf0f0>,\n",
       " <folium.vector_layers.CircleMarker at 0x7f9cf16bf278>,\n",
       " <folium.vector_layers.CircleMarker at 0x7f9cf16bf358>,\n",
       " <folium.vector_layers.CircleMarker at 0x7f9cf16bf390>,\n",
       " <folium.vector_layers.CircleMarker at 0x7f9cf16bf438>,\n",
       " <folium.vector_layers.CircleMarker at 0x7f9cf16bf4e0>,\n",
       " <folium.vector_layers.CircleMarker at 0x7f9cf16bf588>,\n",
       " <folium.vector_layers.CircleMarker at 0x7f9cf16bf630>,\n",
       " <folium.vector_layers.CircleMarker at 0x7f9cf16bf6d8>,\n",
       " <folium.vector_layers.CircleMarker at 0x7f9cf16ff630>,\n",
       " <folium.vector_layers.CircleMarker at 0x7f9cf1696358>,\n",
       " <folium.vector_layers.CircleMarker at 0x7f9cf16a9be0>,\n",
       " <folium.vector_layers.CircleMarker at 0x7f9cf16a9438>,\n",
       " <folium.vector_layers.CircleMarker at 0x7f9cf16a9da0>,\n",
       " <folium.vector_layers.CircleMarker at 0x7f9cf16a9b00>,\n",
       " <folium.vector_layers.CircleMarker at 0x7f9cf16a9d30>,\n",
       " <folium.vector_layers.CircleMarker at 0x7f9cf16a9e48>,\n",
       " <folium.vector_layers.CircleMarker at 0x7f9cf16a9fd0>,\n",
       " <folium.vector_layers.CircleMarker at 0x7f9cf16bf3c8>,\n",
       " <folium.vector_layers.CircleMarker at 0x7f9cf16bf0b8>,\n",
       " <folium.vector_layers.CircleMarker at 0x7f9cf16bf208>,\n",
       " <folium.vector_layers.CircleMarker at 0x7f9cf16bf240>,\n",
       " <folium.vector_layers.CircleMarker at 0x7f9cf16bf780>,\n",
       " <folium.vector_layers.CircleMarker at 0x7f9cf16bf668>,\n",
       " <folium.vector_layers.CircleMarker at 0x7f9cf16bf898>,\n",
       " <folium.vector_layers.CircleMarker at 0x7f9cf16bf8d0>,\n",
       " <folium.vector_layers.CircleMarker at 0x7f9cf16bf978>,\n",
       " <folium.vector_layers.CircleMarker at 0x7f9cf16bfa20>,\n",
       " <folium.vector_layers.CircleMarker at 0x7f9cf16bfac8>,\n",
       " <folium.vector_layers.CircleMarker at 0x7f9cf16bfb70>,\n",
       " <folium.vector_layers.CircleMarker at 0x7f9cf16bfc18>,\n",
       " <folium.vector_layers.CircleMarker at 0x7f9cf16a9198>,\n",
       " <folium.vector_layers.CircleMarker at 0x7f9cf16ffdd8>,\n",
       " <folium.vector_layers.CircleMarker at 0x7f9cf16a9d68>,\n",
       " <folium.vector_layers.CircleMarker at 0x7f9cf16964a8>,\n",
       " <folium.vector_layers.CircleMarker at 0x7f9cf16a99e8>,\n",
       " <folium.vector_layers.CircleMarker at 0x7f9cf16bfa58>,\n",
       " <folium.vector_layers.CircleMarker at 0x7f9cf16bfa90>,\n",
       " <folium.vector_layers.CircleMarker at 0x7f9cf16bf940>,\n",
       " <folium.vector_layers.CircleMarker at 0x7f9cf16bf080>,\n",
       " <folium.vector_layers.CircleMarker at 0x7f9cf16bf7b8>,\n",
       " <folium.vector_layers.CircleMarker at 0x7f9cf16bf550>,\n",
       " <folium.vector_layers.CircleMarker at 0x7f9cf16bf2b0>,\n",
       " <folium.vector_layers.CircleMarker at 0x7f9cf16bf470>,\n",
       " <folium.vector_layers.CircleMarker at 0x7f9cf16bfcc0>,\n",
       " <folium.vector_layers.CircleMarker at 0x7f9cf16bfba8>,\n",
       " <folium.vector_layers.CircleMarker at 0x7f9cf16bfdd8>,\n",
       " <folium.vector_layers.CircleMarker at 0x7f9cf16bfe10>,\n",
       " <folium.vector_layers.CircleMarker at 0x7f9cf16bfeb8>,\n",
       " <folium.vector_layers.CircleMarker at 0x7f9cf16bff60>,\n",
       " <folium.vector_layers.CircleMarker at 0x7f9cf16bfef0>,\n",
       " <folium.vector_layers.CircleMarker at 0x7f9cf16cf048>,\n",
       " <folium.vector_layers.CircleMarker at 0x7f9cf16cf128>,\n",
       " <folium.vector_layers.CircleMarker at 0x7f9cf16ff198>,\n",
       " <folium.vector_layers.CircleMarker at 0x7f9cf16a9c50>,\n",
       " <folium.vector_layers.CircleMarker at 0x7f9cf16a9e80>,\n",
       " <folium.vector_layers.CircleMarker at 0x7f9cf16a9320>,\n",
       " <folium.vector_layers.CircleMarker at 0x7f9cf16bfc50>,\n",
       " <folium.vector_layers.CircleMarker at 0x7f9cf16bfd30>,\n",
       " <folium.vector_layers.CircleMarker at 0x7f9cf16bfda0>,\n",
       " <folium.vector_layers.CircleMarker at 0x7f9cf16bf2e8>,\n",
       " <folium.vector_layers.CircleMarker at 0x7f9cf16bf160>,\n",
       " <folium.vector_layers.CircleMarker at 0x7f9cf16bf7f0>,\n",
       " <folium.vector_layers.CircleMarker at 0x7f9cf16bf320>,\n",
       " <folium.vector_layers.CircleMarker at 0x7f9cf16bf828>,\n",
       " <folium.vector_layers.CircleMarker at 0x7f9cf16bfbe0>,\n",
       " <folium.vector_layers.CircleMarker at 0x7f9cf16bf9e8>,\n",
       " <folium.vector_layers.CircleMarker at 0x7f9cf16cf240>,\n",
       " <folium.vector_layers.CircleMarker at 0x7f9cf16cf2e8>,\n",
       " <folium.vector_layers.CircleMarker at 0x7f9cf16cf198>,\n",
       " <folium.vector_layers.CircleMarker at 0x7f9cf16cf3c8>,\n",
       " <folium.vector_layers.CircleMarker at 0x7f9cf16cf470>,\n",
       " <folium.vector_layers.CircleMarker at 0x7f9cf16cf518>,\n",
       " <folium.vector_layers.CircleMarker at 0x7f9cf16cf5c0>,\n",
       " <folium.vector_layers.CircleMarker at 0x7f9cf16bf9b0>,\n",
       " <folium.vector_layers.CircleMarker at 0x7f9cf16bf5c0>,\n",
       " <folium.vector_layers.CircleMarker at 0x7f9cf16bf4a8>,\n",
       " <folium.vector_layers.CircleMarker at 0x7f9cf16bf400>,\n",
       " <folium.vector_layers.CircleMarker at 0x7f9cf16bffd0>,\n",
       " <folium.vector_layers.CircleMarker at 0x7f9cf16bfd68>,\n",
       " <folium.vector_layers.CircleMarker at 0x7f9cf16966a0>,\n",
       " <folium.vector_layers.CircleMarker at 0x7f9cf16bfe48>,\n",
       " <folium.vector_layers.CircleMarker at 0x7f9cf16a9550>,\n",
       " <folium.vector_layers.CircleMarker at 0x7f9cf16a9240>,\n",
       " <folium.vector_layers.CircleMarker at 0x7f9cf16cf160>,\n",
       " <folium.vector_layers.CircleMarker at 0x7f9cf16cf2b0>,\n",
       " <folium.vector_layers.CircleMarker at 0x7f9cf16cf358>,\n",
       " <folium.vector_layers.CircleMarker at 0x7f9cf16cf080>,\n",
       " <folium.vector_layers.CircleMarker at 0x7f9cf16cf550>,\n",
       " <folium.vector_layers.CircleMarker at 0x7f9cf16cf780>,\n",
       " <folium.vector_layers.CircleMarker at 0x7f9cf16cf7b8>,\n",
       " <folium.vector_layers.CircleMarker at 0x7f9cf16cf860>,\n",
       " <folium.vector_layers.CircleMarker at 0x7f9cf16cf908>,\n",
       " <folium.vector_layers.CircleMarker at 0x7f9cf16cf9b0>,\n",
       " <folium.vector_layers.CircleMarker at 0x7f9cf16cfa58>,\n",
       " <folium.vector_layers.CircleMarker at 0x7f9cf16cfb00>,\n",
       " <folium.vector_layers.CircleMarker at 0x7f9cf16a9908>,\n",
       " <folium.vector_layers.CircleMarker at 0x7f9cf16bf6a0>,\n",
       " <folium.vector_layers.CircleMarker at 0x7f9cf16bfc88>,\n",
       " <folium.vector_layers.CircleMarker at 0x7f9cf16bf1d0>,\n",
       " <folium.vector_layers.CircleMarker at 0x7f9cf16bfb38>,\n",
       " <folium.vector_layers.CircleMarker at 0x7f9cf16bf710>,\n",
       " <folium.vector_layers.CircleMarker at 0x7f9cf16cfa20>,\n",
       " <folium.vector_layers.CircleMarker at 0x7f9cf16cf8d0>,\n",
       " <folium.vector_layers.CircleMarker at 0x7f9cf16cf1d0>,\n",
       " <folium.vector_layers.CircleMarker at 0x7f9cf16cf748>,\n",
       " <folium.vector_layers.CircleMarker at 0x7f9cf16cf4e0>,\n",
       " <folium.vector_layers.CircleMarker at 0x7f9cf16cf208>,\n",
       " <folium.vector_layers.CircleMarker at 0x7f9cf16cf400>,\n",
       " <folium.vector_layers.CircleMarker at 0x7f9cf16cfba8>,\n",
       " <folium.vector_layers.CircleMarker at 0x7f9cf16cfa90>,\n",
       " <folium.vector_layers.CircleMarker at 0x7f9cf16cfcc0>,\n",
       " <folium.vector_layers.CircleMarker at 0x7f9cf16cfcf8>,\n",
       " <folium.vector_layers.CircleMarker at 0x7f9cf16cfda0>,\n",
       " <folium.vector_layers.CircleMarker at 0x7f9cf16cfe48>,\n",
       " <folium.vector_layers.CircleMarker at 0x7f9cf16cfef0>,\n",
       " <folium.vector_layers.CircleMarker at 0x7f9cf16cff98>,\n",
       " <folium.vector_layers.CircleMarker at 0x7f9cf16cff28>,\n",
       " <folium.vector_layers.CircleMarker at 0x7f9cf16cfe80>,\n",
       " <folium.vector_layers.CircleMarker at 0x7f9cf16cfeb8>,\n",
       " <folium.vector_layers.CircleMarker at 0x7f9cf16cfc18>,\n",
       " <folium.vector_layers.CircleMarker at 0x7f9cf16cfc88>,\n",
       " <folium.vector_layers.CircleMarker at 0x7f9cf16cf278>,\n",
       " <folium.vector_layers.CircleMarker at 0x7f9cf16cf320>,\n",
       " <folium.vector_layers.CircleMarker at 0x7f9cf16cf710>,\n",
       " <folium.vector_layers.CircleMarker at 0x7f9cf16cf0f0>,\n",
       " <folium.vector_layers.CircleMarker at 0x7f9cf16cf5f8>,\n",
       " <folium.vector_layers.CircleMarker at 0x7f9cf16cf898>,\n",
       " <folium.vector_layers.CircleMarker at 0x7f9cf16a91d0>,\n",
       " <folium.vector_layers.CircleMarker at 0x7f9cf16bfe80>,\n",
       " <folium.vector_layers.CircleMarker at 0x7f9cf16bfcf8>,\n",
       " <folium.vector_layers.CircleMarker at 0x7f9cf16bf5f8>,\n",
       " <folium.vector_layers.CircleMarker at 0x7f9cf16670b8>,\n",
       " <folium.vector_layers.CircleMarker at 0x7f9cf16671d0>,\n",
       " <folium.vector_layers.CircleMarker at 0x7f9cf1667278>,\n",
       " <folium.vector_layers.CircleMarker at 0x7f9cf1667320>,\n",
       " <folium.vector_layers.CircleMarker at 0x7f9cf16673c8>,\n",
       " <folium.vector_layers.CircleMarker at 0x7f9cf1667470>,\n",
       " <folium.vector_layers.CircleMarker at 0x7f9cf1667518>,\n",
       " <folium.vector_layers.CircleMarker at 0x7f9cf16675c0>,\n",
       " <folium.vector_layers.CircleMarker at 0x7f9cf16a97f0>,\n",
       " <folium.vector_layers.CircleMarker at 0x7f9cf16bff98>,\n",
       " <folium.vector_layers.CircleMarker at 0x7f9cf16cf978>,\n",
       " <folium.vector_layers.CircleMarker at 0x7f9cf16cf828>,\n",
       " <folium.vector_layers.CircleMarker at 0x7f9cf16cf588>,\n",
       " <folium.vector_layers.CircleMarker at 0x7f9cf16cfb38>,\n",
       " <folium.vector_layers.CircleMarker at 0x7f9cf16cf668>,\n",
       " <folium.vector_layers.CircleMarker at 0x7f9cf16cfd30>,\n",
       " <folium.vector_layers.CircleMarker at 0x7f9cf16cfc50>,\n",
       " <folium.vector_layers.CircleMarker at 0x7f9cf16674e0>,\n",
       " <folium.vector_layers.CircleMarker at 0x7f9cf1667390>,\n",
       " <folium.vector_layers.CircleMarker at 0x7f9cf1667080>,\n",
       " <folium.vector_layers.CircleMarker at 0x7f9cf1667160>,\n",
       " <folium.vector_layers.CircleMarker at 0x7f9cf1667668>,\n",
       " <folium.vector_layers.CircleMarker at 0x7f9cf1667550>,\n",
       " <folium.vector_layers.CircleMarker at 0x7f9cf1667780>,\n",
       " <folium.vector_layers.CircleMarker at 0x7f9cf16677b8>,\n",
       " <folium.vector_layers.CircleMarker at 0x7f9cf1667860>,\n",
       " <folium.vector_layers.CircleMarker at 0x7f9cf1667908>,\n",
       " <folium.vector_layers.CircleMarker at 0x7f9cf16679b0>,\n",
       " <folium.vector_layers.CircleMarker at 0x7f9cf1667a58>,\n",
       " <folium.vector_layers.CircleMarker at 0x7f9cf1667b00>,\n",
       " <folium.vector_layers.CircleMarker at 0x7f9cf16cf6a0>,\n",
       " <folium.vector_layers.CircleMarker at 0x7f9cf16cf9e8>,\n",
       " <folium.vector_layers.CircleMarker at 0x7f9cf16cf7f0>,\n",
       " <folium.vector_layers.CircleMarker at 0x7f9cf16cf940>,\n",
       " <folium.vector_layers.CircleMarker at 0x7f9cf16cf4a8>,\n",
       " <folium.vector_layers.CircleMarker at 0x7f9cf16cffd0>,\n",
       " <folium.vector_layers.CircleMarker at 0x7f9cf1696710>,\n",
       " <folium.vector_layers.CircleMarker at 0x7f9cf16bf518>,\n",
       " <folium.vector_layers.CircleMarker at 0x7f9cf16bfb00>,\n",
       " <folium.vector_layers.CircleMarker at 0x7f9cf16a95c0>,\n",
       " <folium.vector_layers.CircleMarker at 0x7f9cf16a9748>,\n",
       " <folium.vector_layers.CircleMarker at 0x7f9cf16677f0>,\n",
       " <folium.vector_layers.CircleMarker at 0x7f9cf1667710>,\n",
       " <folium.vector_layers.CircleMarker at 0x7f9cf16670f0>,\n",
       " <folium.vector_layers.CircleMarker at 0x7f9cf1667240>,\n",
       " <folium.vector_layers.CircleMarker at 0x7f9cf16674a8>,\n",
       " <folium.vector_layers.CircleMarker at 0x7f9cf1667358>,\n",
       " <folium.vector_layers.CircleMarker at 0x7f9cf1667438>,\n",
       " <folium.vector_layers.CircleMarker at 0x7f9cf16679e8>,\n",
       " <folium.vector_layers.CircleMarker at 0x7f9cf1667be0>,\n",
       " <folium.vector_layers.CircleMarker at 0x7f9cf1667c88>,\n",
       " <folium.vector_layers.CircleMarker at 0x7f9cf1667400>,\n",
       " <folium.vector_layers.CircleMarker at 0x7f9cf16a9860>,\n",
       " <folium.vector_layers.CircleMarker at 0x7f9cf16bff28>,\n",
       " <folium.vector_layers.CircleMarker at 0x7f9cf16bf198>,\n",
       " <folium.vector_layers.CircleMarker at 0x7f9cf16cff60>,\n",
       " <folium.vector_layers.CircleMarker at 0x7f9cf16cf390>,\n",
       " <folium.vector_layers.CircleMarker at 0x7f9cf16cfbe0>,\n",
       " <folium.vector_layers.CircleMarker at 0x7f9cf16cf0b8>,\n",
       " <folium.vector_layers.CircleMarker at 0x7f9cf1667c50>,\n",
       " <folium.vector_layers.CircleMarker at 0x7f9cf1667630>,\n",
       " <folium.vector_layers.CircleMarker at 0x7f9cf1667048>,\n",
       " <folium.vector_layers.CircleMarker at 0x7f9cf1667128>,\n",
       " <folium.vector_layers.CircleMarker at 0x7f9cf1667a20>,\n",
       " <folium.vector_layers.CircleMarker at 0x7f9cf16675f8>,\n",
       " <folium.vector_layers.CircleMarker at 0x7f9cf1667b70>,\n",
       " <folium.vector_layers.CircleMarker at 0x7f9cf1667dd8>,\n",
       " <folium.vector_layers.CircleMarker at 0x7f9cf1667e10>,\n",
       " <folium.vector_layers.CircleMarker at 0x7f9cf1667cf8>,\n",
       " <folium.vector_layers.CircleMarker at 0x7f9cf1667ef0>,\n",
       " <folium.vector_layers.CircleMarker at 0x7f9cf1667f98>,\n",
       " <folium.vector_layers.CircleMarker at 0x7f9cf1667f28>,\n",
       " <folium.vector_layers.CircleMarker at 0x7f9cf167a0f0>,\n",
       " <folium.vector_layers.CircleMarker at 0x7f9cf167a1d0>,\n",
       " <folium.vector_layers.CircleMarker at 0x7f9cf1667ba8>,\n",
       " <folium.vector_layers.CircleMarker at 0x7f9cf1667da0>,\n",
       " <folium.vector_layers.CircleMarker at 0x7f9cf1667cc0>,\n",
       " <folium.vector_layers.CircleMarker at 0x7f9cf1667978>,\n",
       " <folium.vector_layers.CircleMarker at 0x7f9cf16678d0>,\n",
       " <folium.vector_layers.CircleMarker at 0x7f9cf16672e8>,\n",
       " <folium.vector_layers.CircleMarker at 0x7f9cf1667208>,\n",
       " <folium.vector_layers.CircleMarker at 0x7f9cf1667b38>,\n",
       " <folium.vector_layers.CircleMarker at 0x7f9cf1667828>,\n",
       " <folium.vector_layers.CircleMarker at 0x7f9cf16bf860>,\n",
       " <folium.vector_layers.CircleMarker at 0x7f9cf16cfdd8>,\n",
       " <folium.vector_layers.CircleMarker at 0x7f9cf16cfd68>,\n",
       " <folium.vector_layers.CircleMarker at 0x7f9cf16cf6d8>,\n",
       " <folium.vector_layers.CircleMarker at 0x7f9cf167a0b8>,\n",
       " <folium.vector_layers.CircleMarker at 0x7f9cf167a128>,\n",
       " <folium.vector_layers.CircleMarker at 0x7f9cf167a390>,\n",
       " <folium.vector_layers.CircleMarker at 0x7f9cf167a3c8>,\n",
       " <folium.vector_layers.CircleMarker at 0x7f9cf167a470>,\n",
       " <folium.vector_layers.CircleMarker at 0x7f9cf167a518>,\n",
       " <folium.vector_layers.CircleMarker at 0x7f9cf167a5c0>,\n",
       " <folium.vector_layers.CircleMarker at 0x7f9cf167a668>,\n",
       " <folium.vector_layers.CircleMarker at 0x7f9cf167a710>,\n",
       " <folium.vector_layers.CircleMarker at 0x7f9cf16a9f98>,\n",
       " <folium.vector_layers.CircleMarker at 0x7f9cf16bf908>,\n",
       " <folium.vector_layers.CircleMarker at 0x7f9cf16cf438>,\n",
       " <folium.vector_layers.CircleMarker at 0x7f9cf1667c18>,\n",
       " <folium.vector_layers.CircleMarker at 0x7f9cf1667748>]"
      ]
     },
     "execution_count": 140,
     "metadata": {},
     "output_type": "execute_result"
    }
   ],
   "source": [
    "trip_markers = markers_from_trips(cleaned_trips)\n",
    "trip_markers"
   ]
  },
  {
   "cell_type": "code",
   "execution_count": 141,
   "metadata": {},
   "outputs": [
    {
     "data": {
      "text/plain": [
       "[{'trip_distance': 18.38,\n",
       "  'pickup_latitude': 40.64499,\n",
       "  'pickup_longitude': -73.78115},\n",
       " {'trip_distance': 1.3,\n",
       "  'pickup_latitude': 40.766931,\n",
       "  'pickup_longitude': -73.982098},\n",
       " {'trip_distance': 4.5,\n",
       "  'pickup_latitude': 40.77773,\n",
       "  'pickup_longitude': -73.951902},\n",
       " {'trip_distance': 2.4,\n",
       "  'pickup_latitude': 40.795678,\n",
       "  'pickup_longitude': -73.971049}]"
      ]
     },
     "execution_count": 141,
     "metadata": {},
     "output_type": "execute_result"
    }
   ],
   "source": [
    "cleaned_trips[0:4]"
   ]
  },
  {
   "cell_type": "code",
   "execution_count": 118,
   "metadata": {},
   "outputs": [],
   "source": [
    "trip_markers and len(trip_markers) # 1000\n",
    "\n",
    "#list(map(lambda marker: marker.location, trip_markers[0:4]))\n",
    "# [[40.64499, -73.78115],\n",
    "#  [40.766931, -73.982098],\n",
    "#  [40.77773, -73.951902],\n",
    "#  [40.795678, -73.971049]]"
   ]
  },
  {
   "cell_type": "markdown",
   "metadata": {},
   "source": [
    "Ok, now that we have a function that creates locations, and a function that creates markers, it is time to write a function to plot a map. \n",
    "\n",
    "Write a function called `map_from` that, provided the first argument of a list location and second argument an integer representing the `zoom_start`, returns a `folium` map the corresponding location and `zoom_start` attributes.\n",
    "\n",
    "> Hint: The following is how to write a map with folium:\n",
    "> ```python \n",
    "    folium.Map(location=location, zoom_start=zoom_amount)\n",
    "> ```"
   ]
  },
  {
   "cell_type": "code",
   "execution_count": null,
   "metadata": {},
   "outputs": [],
   "source": [
    "def map_from(location, zoom_amount):\n",
    "    pass"
   ]
  },
  {
   "cell_type": "code",
   "execution_count": null,
   "metadata": {},
   "outputs": [],
   "source": [
    "times_square_map = map_from([40.7589, -73.9851], 15)\n",
    "times_square_map and times_square_map.location # [40.7589, -73.9851]\n",
    "times_square_map and times_square_map.zoom_start # 15"
   ]
  },
  {
   "cell_type": "code",
   "execution_count": null,
   "metadata": {
    "scrolled": true
   },
   "outputs": [],
   "source": [
    "times_square_marker and times_square_marker.add_to(times_square_map)\n",
    "times_square_map"
   ]
  },
  {
   "cell_type": "markdown",
   "metadata": {},
   "source": [
    "Now that we have a marker and a map, now let's write a function that adds a lot of markers to a map.  This function should add each marker in the list to the map object then return the updated map object."
   ]
  },
  {
   "cell_type": "code",
   "execution_count": null,
   "metadata": {},
   "outputs": [],
   "source": [
    "manhattan_map = map_from([40.7589, -73.9851], 13)"
   ]
  },
  {
   "cell_type": "code",
   "execution_count": null,
   "metadata": {},
   "outputs": [],
   "source": [
    "def add_markers(markers, map_obj):\n",
    "    pass"
   ]
  },
  {
   "cell_type": "code",
   "execution_count": null,
   "metadata": {
    "scrolled": false
   },
   "outputs": [],
   "source": [
    "map_with_markers = add_markers(trip_markers, manhattan_map)"
   ]
  },
  {
   "cell_type": "code",
   "execution_count": null,
   "metadata": {},
   "outputs": [],
   "source": [
    "map_with_markers"
   ]
  },
  {
   "cell_type": "markdown",
   "metadata": {},
   "source": [
    "### Using Nearest Neighbors"
   ]
  },
  {
   "cell_type": "markdown",
   "metadata": {},
   "source": [
    "Ok, let's write a function that given a latitude and longitude will predict the distance for us.  We'll do this by first finding the nearest trips given a latitude and longitude. "
   ]
  },
  {
   "cell_type": "markdown",
   "metadata": {},
   "source": [
    "Here we once again apply the nearest neighbors formula. As a first step, write a function named `distance_location` that calculates the distance in pickup location between two trips."
   ]
  },
  {
   "cell_type": "code",
   "execution_count": null,
   "metadata": {},
   "outputs": [],
   "source": [
    "import math\n",
    "\n",
    "def distance_location(selected_trip, neighbor_trip):\n",
    "    pass"
   ]
  },
  {
   "cell_type": "code",
   "execution_count": null,
   "metadata": {},
   "outputs": [],
   "source": [
    "first_trip = {'pickup_latitude': 40.64499, 'pickup_longitude': -73.78115, 'trip_distance': 18.38}\n",
    "second_trip = {'pickup_latitude': 40.766931, 'pickup_longitude': -73.982098, 'trip_distance': 1.3}\n",
    "distance_first_and_second = distance_location(first_trip, second_trip)\n",
    "\n",
    "distance_first_and_second and round(distance_first_and_second, 3) # 0.235"
   ]
  },
  {
   "cell_type": "markdown",
   "metadata": {},
   "source": [
    "Ok, next write a function called `distance_between_neighbors` that adds a new key-value pair, called `distance_from_selected`, that calculates the distance of the `neighbor_trip` from the `selected_trip`."
   ]
  },
  {
   "cell_type": "code",
   "execution_count": null,
   "metadata": {},
   "outputs": [],
   "source": [
    "def distance_between_neighbors(selected_trip, neighbor_trip):\n",
    "    pass"
   ]
  },
  {
   "cell_type": "code",
   "execution_count": null,
   "metadata": {},
   "outputs": [],
   "source": [
    "distance_between_neighbors(first_trip, second_trip)\n",
    "\n",
    "# {'distance_from_selected': 0.23505256047318146,\n",
    "#  'pickup_latitude': 40.766931,\n",
    "#  'pickup_longitude': -73.982098,\n",
    "#  'trip_distance': 1.3}"
   ]
  },
  {
   "cell_type": "markdown",
   "metadata": {},
   "source": [
    "Ok, now our `neighbor_trip` has another attribute called `distance_from_selected`, that indicates the distance from the `neighbor_trip`'s pickup location from the `selected_trip`."
   ]
  },
  {
   "cell_type": "markdown",
   "metadata": {},
   "source": [
    "> ** Understand the data:** Our dictionary now has a few attributes, two of which say distance.  Let's make sure we understand the difference. \n",
    "> * **`distance_from_selected`:** This is our calculation of the distance of the neighbor's pickup location from the selected trip.\n",
    "> * **`trip_distance`:** This is the attribute we were provided initially.  It tells us the length of the neighbor's taxi trip from pickup to drop-off.  "
   ]
  },
  {
   "cell_type": "markdown",
   "metadata": {},
   "source": [
    "Next, write a function called `distance_all` that provided a list of neighbors, returns each of those neighbors with their respective `distance_from_selected` numbers."
   ]
  },
  {
   "cell_type": "code",
   "execution_count": null,
   "metadata": {},
   "outputs": [],
   "source": [
    "def distance_all(selected_individual, neighbors):\n",
    "    pass"
   ]
  },
  {
   "cell_type": "code",
   "execution_count": null,
   "metadata": {},
   "outputs": [],
   "source": [
    "cleaned_trips and distance_all(first_trip, cleaned_trips[0:4])"
   ]
  },
  {
   "cell_type": "markdown",
   "metadata": {},
   "source": [
    "Now write the nearest neighbors formula to calculate the distance of the `selected_trip` from all of the `cleaned_trips` in our dataset.  If no number is provided, it should return the top 3 neighbors."
   ]
  },
  {
   "cell_type": "code",
   "execution_count": null,
   "metadata": {},
   "outputs": [],
   "source": [
    "def nearest_neighbors(selected_trip, trips, number = 3):\n",
    "    pass"
   ]
  },
  {
   "cell_type": "code",
   "execution_count": null,
   "metadata": {},
   "outputs": [],
   "source": [
    "new_trip = {'pickup_latitude': 40.64499,\n",
    "'pickup_longitude': -73.78115,\n",
    "'trip_distance': 18.38}\n",
    "\n",
    "nearest_three_neighbors = nearest_neighbors(new_trip, cleaned_trips or [], number = 3)\n",
    "nearest_three_neighbors\n",
    "# [{'distance_from_selected': 0.0004569288784918792,\n",
    "#   'pickup_latitude': 40.64483,\n",
    "#   'pickup_longitude': -73.781578,\n",
    "#   'trip_distance': 7.78},\n",
    "#  {'distance_from_selected': 0.0011292165425673159,\n",
    "#   'pickup_latitude': 40.644657,\n",
    "#   'pickup_longitude': -73.782229,\n",
    "#   'trip_distance': 12.7},\n",
    "#  {'distance_from_selected': 0.0042359798158141185,\n",
    "#   'pickup_latitude': 40.648509,\n",
    "#   'pickup_longitude': -73.783508,\n",
    "#   'trip_distance': 17.3}]"
   ]
  },
  {
   "cell_type": "markdown",
   "metadata": {},
   "source": [
    "Ok great! Now that we can provide a new trip location, and find the distances of the three nearest trips, we can take  calculate an estimate of the trip distance for that new trip location.  \n",
    "\n",
    "We do so simply by calculating the average of it's nearest neighbors."
   ]
  },
  {
   "cell_type": "code",
   "execution_count": null,
   "metadata": {},
   "outputs": [],
   "source": [
    "import statistics\n",
    "def mean_distance(neighbors):\n",
    "    nearest_distances = list(map(lambda neighbor: neighbor['trip_distance'], neighbors))\n",
    "    return round(statistics.mean(nearest_distances), 3)\n",
    "\n",
    "nearest_three_neighbors = nearest_neighbors(new_trip, cleaned_trips or [], number = 3)\n",
    "distance_estimate_of_selected_trip = mean_distance(nearest_three_neighbors) # 12.593\n",
    "distance_estimate_of_selected_trip"
   ]
  },
  {
   "cell_type": "markdown",
   "metadata": {},
   "source": [
    "### Choosing the correct number of neighbors"
   ]
  },
  {
   "cell_type": "markdown",
   "metadata": {},
   "source": [
    "Now, as we know from the last lesson, one tricky element is to determine how many neighbors to choose, our $k$ value,  before calculating the average.  We want to choose our value of $k$ such that it properly matches actual data, and so that it applies to new data.  There are fancy formulas to ensure that we **train** our algorithm so that our formula is optimized for all data, but here let's see different $k$ values manually.  This is the gist of choosing our $k$ value:\n",
    "\n",
    "* If we choose a $k$ value too low, our formula will be too heavily influenced by a single neighbor, whereas if our $k$ value is too high, we will be choosing so many neighbors that our nearest neighbors formula will not be adjust enough according to locations.\n",
    "\n",
    "Ok, let's experiment with this."
   ]
  },
  {
   "cell_type": "markdown",
   "metadata": {},
   "source": [
    "First, let's choose a midtown location, to see what the trip distance would be.  A Google search reveals the coordinates of 51st and 7th avenue to be the following."
   ]
  },
  {
   "cell_type": "code",
   "execution_count": null,
   "metadata": {},
   "outputs": [],
   "source": [
    "midtown_trip = dict(pickup_latitude=40.761710, pickup_longitude=-73.982760)"
   ]
  },
  {
   "cell_type": "code",
   "execution_count": null,
   "metadata": {},
   "outputs": [],
   "source": [
    "seven_closest = nearest_neighbors(midtown_trip, cleaned_trips, number = 7)\n",
    "seven_closest\n",
    "# [{'trip_distance': 0.58,\n",
    "#   'pickup_latitude': 40.761372,\n",
    "#   'pickup_longitude': -73.982602,\n",
    "#   'distance_from_selected': 0.00037310588309379025},\n",
    "#  {'trip_distance': 0.8,\n",
    "#   'pickup_latitude': 40.762444,\n",
    "#   'pickup_longitude': -73.98244,\n",
    "#   'distance_from_selected': 0.00080072217404248},\n",
    "#  {'trip_distance': 1.4,\n",
    "#   'pickup_latitude': 40.762767,\n",
    "#   'pickup_longitude': -73.982293,\n",
    "#   'distance_from_selected': 0.0011555682584735844},\n",
    "#  {'trip_distance': 8.3,\n",
    "#   'pickup_latitude': 40.762868,\n",
    "#   'pickup_longitude': -73.983233,\n",
    "#   'distance_from_selected': 0.0012508768924205918},\n",
    "#  {'trip_distance': 1.26,\n",
    "#   'pickup_latitude': 40.760057,\n",
    "#   'pickup_longitude': -73.983502,\n",
    "#   'distance_from_selected': 0.0018118976240381972},\n",
    "#  {'trip_distance': 0.0,\n",
    "#   'pickup_latitude': 40.760644,\n",
    "#   'pickup_longitude': -73.984531,\n",
    "#   'distance_from_selected': 0.002067074502774709},\n",
    "#  {'trip_distance': 1.72,\n",
    "#   'pickup_latitude': 40.762107,\n",
    "#   'pickup_longitude': -73.98479,\n",
    "#   'distance_from_selected': 0.0020684557041472677}]"
   ]
  },
  {
   "cell_type": "markdown",
   "metadata": {},
   "source": [
    "Looking at the `distance_from_selected` it appears that our our trips are still fairly close to our selected trip.  Notice that most of the data is within a distance of .002 away, so going to the top 7 nearest neighbors didn't seem to give us neighbors too far from each other, which is a good sign.\n",
    "\n",
    "Still, it's hard to know what distance in latitude and longitude really look like, so let's map the data. "
   ]
  },
  {
   "cell_type": "code",
   "execution_count": null,
   "metadata": {},
   "outputs": [],
   "source": [
    "midtown_location = location(midtown_trip) # [40.76171, -73.98276]\n",
    "midtown_map = map_from(midtown_location, 16)\n",
    "closest_markers = markers_from_trips(seven_closest)\n",
    "\n",
    "add_markers(closest_markers, midtown_map)"
   ]
  },
  {
   "cell_type": "markdown",
   "metadata": {},
   "source": [
    "Ok.  These locations stay fairly close to our estimated location of 51st street and 7th Avenue.  So they could be a good estimate of a trip distance."
   ]
  },
  {
   "cell_type": "code",
   "execution_count": null,
   "metadata": {},
   "outputs": [],
   "source": [
    "mean_distance(seven_closest) # 2.009"
   ]
  },
  {
   "cell_type": "markdown",
   "metadata": {},
   "source": [
    "Ok, now let's try a different location"
   ]
  },
  {
   "cell_type": "code",
   "execution_count": null,
   "metadata": {},
   "outputs": [],
   "source": [
    "charging_bull_closest = nearest_neighbors({'pickup_latitude': 40.7049, 'pickup_longitude': -74.0137}, cleaned_trips, number = 12)"
   ]
  },
  {
   "cell_type": "code",
   "execution_count": null,
   "metadata": {
    "scrolled": true
   },
   "outputs": [],
   "source": [
    "mean_distance(charging_bull_closest) # 3.145"
   ]
  },
  {
   "cell_type": "markdown",
   "metadata": {},
   "source": [
    "Ok, so there appears to be a significant difference between choosing a location near Times Square versus choosing a location at Wall Street."
   ]
  },
  {
   "cell_type": "markdown",
   "metadata": {},
   "source": [
    "### Summary"
   ]
  },
  {
   "cell_type": "markdown",
   "metadata": {},
   "source": [
    "In this lab, we used the nearest neighbors function to predict the length of a taxi ride.  To do so, we selected a location, then found a number of taxi rides closest to that location, and finally took the average trip lengths of the nearest taxi rides to find an estimate of the new ride's trip length.  You can see that even with just a little bit of math and programming we can begin to make meaningful predictions with data."
   ]
  }
 ],
 "metadata": {
  "kernelspec": {
   "display_name": "Python 3",
   "language": "python",
   "name": "python3"
  },
  "language_info": {
   "codemirror_mode": {
    "name": "ipython",
    "version": 3
   },
   "file_extension": ".py",
   "mimetype": "text/x-python",
   "name": "python",
   "nbconvert_exporter": "python",
   "pygments_lexer": "ipython3",
   "version": "3.6.6"
  }
 },
 "nbformat": 4,
 "nbformat_minor": 2
}
